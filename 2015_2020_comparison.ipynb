{
 "cells": [
  {
   "cell_type": "code",
   "execution_count": 28,
   "metadata": {},
   "outputs": [],
   "source": [
    "import pandas as pd\n",
    "import numpy as np\n",
    "import matplotlib.pyplot as plt\n",
    "import seaborn as sns"
   ]
  },
  {
   "cell_type": "code",
   "execution_count": 29,
   "metadata": {},
   "outputs": [],
   "source": [
    "data_burden = pd.read_csv('data.csv')\n",
    "data_burden = data_burden[data_burden['burden'].notna()]\n",
    "data_burden = data_burden[data_burden.columns[data_burden.isnull().mean() < 0.2]]\n",
    "\n",
    "data_burden.columns[data_burden.isnull().any()]\n",
    "\n",
    "for column in data_burden.columns:\n",
    "    data_burden[column].fillna(data_burden[column].mode()[0], inplace=True)\n",
    "\n",
    "median = data_burden.loc[data_burden['agecr'] < 200, 'agecr'].median()\n",
    "data_burden[\"agecr\"] = np.where(data_burden[\"agecr\"] > 200, median,data_burden['agecr'])\n"
   ]
  },
  {
   "cell_type": "code",
   "execution_count": 30,
   "metadata": {},
   "outputs": [],
   "source": [
    "#select the top few needed the high important features while avoiding multi-colinearity\n",
    "data_burden = data_burden[['year', 'Q18', 'HOURS', 'adls', 'q22a', 'q22b', 'q22d', 'N3', 'q22c', 'iadls', 'q22g', 'q22f', 'q23d', 'banlives', 'q23c', 'q22e', 'burden', 'Q37B', 'Q36', 'Q35', 'q23a','q23b','q23e','q23f']]"
   ]
  },
  {
   "cell_type": "code",
   "execution_count": 31,
   "metadata": {},
   "outputs": [
    {
     "data": {
      "text/html": [
       "<div>\n",
       "<style scoped>\n",
       "    .dataframe tbody tr th:only-of-type {\n",
       "        vertical-align: middle;\n",
       "    }\n",
       "\n",
       "    .dataframe tbody tr th {\n",
       "        vertical-align: top;\n",
       "    }\n",
       "\n",
       "    .dataframe thead th {\n",
       "        text-align: right;\n",
       "    }\n",
       "</style>\n",
       "<table border=\"1\" class=\"dataframe\">\n",
       "  <thead>\n",
       "    <tr style=\"text-align: right;\">\n",
       "      <th></th>\n",
       "      <th>year</th>\n",
       "      <th>Q18</th>\n",
       "      <th>HOURS</th>\n",
       "      <th>adls</th>\n",
       "      <th>q22a</th>\n",
       "      <th>q22b</th>\n",
       "      <th>q22d</th>\n",
       "      <th>N3</th>\n",
       "      <th>q22c</th>\n",
       "      <th>iadls</th>\n",
       "      <th>...</th>\n",
       "      <th>q23c</th>\n",
       "      <th>q22e</th>\n",
       "      <th>burden</th>\n",
       "      <th>Q37B</th>\n",
       "      <th>Q36</th>\n",
       "      <th>Q35</th>\n",
       "      <th>q23a</th>\n",
       "      <th>q23b</th>\n",
       "      <th>q23e</th>\n",
       "      <th>q23f</th>\n",
       "    </tr>\n",
       "  </thead>\n",
       "  <tbody>\n",
       "    <tr>\n",
       "      <th>3</th>\n",
       "      <td>2014</td>\n",
       "      <td>Aging</td>\n",
       "      <td>28.0</td>\n",
       "      <td>0.0</td>\n",
       "      <td>2.0</td>\n",
       "      <td>2.0</td>\n",
       "      <td>2.0</td>\n",
       "      <td>2.0</td>\n",
       "      <td>2.0</td>\n",
       "      <td>4.0</td>\n",
       "      <td>...</td>\n",
       "      <td>1.0</td>\n",
       "      <td>2.0</td>\n",
       "      <td>3.0</td>\n",
       "      <td>3.0</td>\n",
       "      <td>4.0</td>\n",
       "      <td>2.0</td>\n",
       "      <td>2.0</td>\n",
       "      <td>1.0</td>\n",
       "      <td>1.0</td>\n",
       "      <td>2.0</td>\n",
       "    </tr>\n",
       "    <tr>\n",
       "      <th>5</th>\n",
       "      <td>2014</td>\n",
       "      <td>MobilityProblem</td>\n",
       "      <td>0.5</td>\n",
       "      <td>4.0</td>\n",
       "      <td>1.0</td>\n",
       "      <td>1.0</td>\n",
       "      <td>2.0</td>\n",
       "      <td>1.0</td>\n",
       "      <td>2.0</td>\n",
       "      <td>6.0</td>\n",
       "      <td>...</td>\n",
       "      <td>1.0</td>\n",
       "      <td>1.0</td>\n",
       "      <td>3.0</td>\n",
       "      <td>1.0</td>\n",
       "      <td>3.0</td>\n",
       "      <td>1.0</td>\n",
       "      <td>2.0</td>\n",
       "      <td>1.0</td>\n",
       "      <td>1.0</td>\n",
       "      <td>1.0</td>\n",
       "    </tr>\n",
       "    <tr>\n",
       "      <th>24</th>\n",
       "      <td>2014</td>\n",
       "      <td>Cancer</td>\n",
       "      <td>12.0</td>\n",
       "      <td>0.0</td>\n",
       "      <td>2.0</td>\n",
       "      <td>2.0</td>\n",
       "      <td>2.0</td>\n",
       "      <td>2.0</td>\n",
       "      <td>2.0</td>\n",
       "      <td>6.0</td>\n",
       "      <td>...</td>\n",
       "      <td>1.0</td>\n",
       "      <td>2.0</td>\n",
       "      <td>2.0</td>\n",
       "      <td>1.0</td>\n",
       "      <td>2.0</td>\n",
       "      <td>1.0</td>\n",
       "      <td>1.0</td>\n",
       "      <td>1.0</td>\n",
       "      <td>1.0</td>\n",
       "      <td>1.0</td>\n",
       "    </tr>\n",
       "    <tr>\n",
       "      <th>57</th>\n",
       "      <td>2014</td>\n",
       "      <td>Surgery</td>\n",
       "      <td>77.0</td>\n",
       "      <td>1.0</td>\n",
       "      <td>2.0</td>\n",
       "      <td>1.0</td>\n",
       "      <td>2.0</td>\n",
       "      <td>1.0</td>\n",
       "      <td>2.0</td>\n",
       "      <td>5.0</td>\n",
       "      <td>...</td>\n",
       "      <td>1.0</td>\n",
       "      <td>2.0</td>\n",
       "      <td>4.0</td>\n",
       "      <td>1.0</td>\n",
       "      <td>3.0</td>\n",
       "      <td>2.0</td>\n",
       "      <td>2.0</td>\n",
       "      <td>1.0</td>\n",
       "      <td>1.0</td>\n",
       "      <td>2.0</td>\n",
       "    </tr>\n",
       "    <tr>\n",
       "      <th>69</th>\n",
       "      <td>2014</td>\n",
       "      <td>Surgery</td>\n",
       "      <td>8.0</td>\n",
       "      <td>3.0</td>\n",
       "      <td>1.0</td>\n",
       "      <td>1.0</td>\n",
       "      <td>2.0</td>\n",
       "      <td>2.0</td>\n",
       "      <td>1.0</td>\n",
       "      <td>3.0</td>\n",
       "      <td>...</td>\n",
       "      <td>1.0</td>\n",
       "      <td>2.0</td>\n",
       "      <td>3.0</td>\n",
       "      <td>1.0</td>\n",
       "      <td>2.0</td>\n",
       "      <td>1.0</td>\n",
       "      <td>2.0</td>\n",
       "      <td>1.0</td>\n",
       "      <td>1.0</td>\n",
       "      <td>2.0</td>\n",
       "    </tr>\n",
       "  </tbody>\n",
       "</table>\n",
       "<p>5 rows × 24 columns</p>\n",
       "</div>"
      ],
      "text/plain": [
       "    year              Q18  HOURS  adls  q22a  q22b  q22d   N3  q22c  iadls  \\\n",
       "3   2014            Aging   28.0   0.0   2.0   2.0   2.0  2.0   2.0    4.0   \n",
       "5   2014  MobilityProblem    0.5   4.0   1.0   1.0   2.0  1.0   2.0    6.0   \n",
       "24  2014           Cancer   12.0   0.0   2.0   2.0   2.0  2.0   2.0    6.0   \n",
       "57  2014          Surgery   77.0   1.0   2.0   1.0   2.0  1.0   2.0    5.0   \n",
       "69  2014          Surgery    8.0   3.0   1.0   1.0   2.0  2.0   1.0    3.0   \n",
       "\n",
       "    ...  q23c  q22e  burden  Q37B  Q36  Q35  q23a  q23b  q23e  q23f  \n",
       "3   ...   1.0   2.0     3.0   3.0  4.0  2.0   2.0   1.0   1.0   2.0  \n",
       "5   ...   1.0   1.0     3.0   1.0  3.0  1.0   2.0   1.0   1.0   1.0  \n",
       "24  ...   1.0   2.0     2.0   1.0  2.0  1.0   1.0   1.0   1.0   1.0  \n",
       "57  ...   1.0   2.0     4.0   1.0  3.0  2.0   2.0   1.0   1.0   2.0  \n",
       "69  ...   1.0   2.0     3.0   1.0  2.0  1.0   2.0   1.0   1.0   2.0  \n",
       "\n",
       "[5 rows x 24 columns]"
      ]
     },
     "execution_count": 31,
     "metadata": {},
     "output_type": "execute_result"
    }
   ],
   "source": [
    "#Select the only the ones with sufficient dataponp.rounds --- 80+ was arbitrarily chosen \n",
    "lst = [24.0, 32.0, 14.0, 19.0, 30.0, 20.0, 13.0, 23.0]\n",
    "data_burden = data_burden.loc[data_burden['Q18'].isin(lst)]\n",
    "data_burden[\"Q18\"] = data_burden[\"Q18\"].astype(str)\n",
    "\n",
    "#re-code the numbers to actual illness\n",
    "data_burden[\"Q18\"] = data_burden[\"Q18\"].replace(\n",
    "    [\"3.0\",\"5.0\",\"8.0\",\"14.0\",\"16.0\",\"18.0\",\"19.0\",\"20.0\",\"22.0\",\"23.0\",\"24.0\",\"30.0\",\"32.0\", \"13.0\", '43.0'], \n",
    "    [\"Alzheimer\",\"Arthritis\", \"BackProblems\", \"Cancer\", \"Diabetes\", \"Falling\", \"HeartDisease\", \"LungDisease\", \"MentalIllness\", \"MobilityProblem\", \"Aging\",  \"Stroke\",\n",
    "    \"Surgery\", \"BrokenBones\", \"Alzheimer\"])\n",
    "    \n",
    "data_burden.head()"
   ]
  },
  {
   "cell_type": "code",
   "execution_count": 32,
   "metadata": {},
   "outputs": [],
   "source": [
    "#remove useless values such as \"don't know\", \"not answered\"\n",
    "\n",
    "values = [3.0, 4.0]\n",
    "data_burden = data_burden[\n",
    "    (data_burden.q22a.isin(values) == False) \\\n",
    "        & (data_burden.q22b.isin(values) == False) \\\n",
    "        & (data_burden.q22d.isin(values) == False)\n",
    "        & (data_burden.N3.isin(values) == False) \\\n",
    "        & (data_burden.q22c.isin(values) == False) \\\n",
    "        & (data_burden.q22g.isin(values) == False) \\\n",
    "        & (data_burden.q22f.isin(values) == False) \\\n",
    "        & (data_burden.q23d.isin(values) == False) \\\n",
    "        & (data_burden.q23c.isin(values) == False) \\\n",
    "        & (data_burden.q22e.isin(values) == False) \\\n",
    "        & (data_burden.q23a.isin(values) == False) \\\n",
    "        & (data_burden.q23b.isin(values) == False) \\\n",
    "        & (data_burden.q23e.isin(values) == False) \\\n",
    "        & (data_burden.q23f.isin(values) == False)                       \n",
    "                        ]\n",
    "\n",
    "data_burden = data_burden[data_burden['banlives'] != 3.0]\n",
    "\n",
    "values2 = [6.0, 7.0]\n",
    "data_burden = data_burden[\n",
    "    (data_burden.Q35.isin(values2) == False) \\\n",
    "        & (data_burden.Q36.isin(values2) == False) \\\n",
    "        & (data_burden.Q37B.isin(values2) == False)\n",
    "]"
   ]
  },
  {
   "cell_type": "code",
   "execution_count": 33,
   "metadata": {},
   "outputs": [],
   "source": [
    "#re-coding survey numbers to actual response\n",
    "data_burden[\"q22a\"] = data_burden[\"q22a\"].replace(2.0, 0)\n",
    "data_burden[\"q22b\"] = data_burden[\"q22b\"].replace(2.0, 0)\n",
    "data_burden[\"q22d\"] = data_burden[\"q22d\"].replace(2.0, 0)\n",
    "data_burden[\"N3\"] = data_burden[\"N3\"].replace(2.0, 0)\n",
    "data_burden[\"q22c\"] = data_burden[\"q22c\"].replace(2.0, 0)\n",
    "data_burden[\"q22g\"] = data_burden[\"q22g\"].replace(2.0, 0)\n",
    "data_burden[\"q22f\"] = data_burden[\"q22f\"].replace(2.0, 0)\n",
    "data_burden[\"q23d\"] = data_burden[\"q23d\"].replace(2.0, 0)\n",
    "data_burden[\"q23c\"] = data_burden[\"q23c\"].replace(2.0, 0)\n",
    "data_burden[\"q22e\"] = data_burden[\"q22e\"].replace(2.0, 0)\n",
    "\n",
    "data_burden[\"q23a\"] = data_burden[\"q23a\"].replace(2.0, 0)\n",
    "data_burden[\"q23b\"] = data_burden[\"q23b\"].replace(2.0, 0)\n",
    "data_burden[\"q23e\"] = data_burden[\"q23e\"].replace(2.0, 0)\n",
    "data_burden[\"q23f\"] = data_burden[\"q23f\"].replace(2.0, 0)\n",
    "\n",
    "data_burden[\"banlives\"] = data_burden[\"banlives\"].replace(2.0, 0)"
   ]
  },
  {
   "cell_type": "code",
   "execution_count": 34,
   "metadata": {},
   "outputs": [],
   "source": [
    "#renaming the column names to laymens terms\n",
    "data_burden.columns = ['year', 'illness', 'hours', 'adls', 'help_with_bed', 'help_with_dressed', 'help_with_bathe', 'help_with_med', 'help_with_toilet', 'iadls', 'giving_medicine', 'help_with_feeding', 'preparing_meals', 'lives_with_patient', 'help_housework', 'help_with_diapers', 'burden', 'fin_burden', 'emot_burden', 'phys_burden', 'managing_finances', 'grocery', 'transportation', 'outside_services']\n",
    "data_burden = data_burden.reset_index(drop=True)"
   ]
  },
  {
   "cell_type": "code",
   "execution_count": 35,
   "metadata": {},
   "outputs": [],
   "source": [
    "#'fin_burden', 'emot_burden', 'phys_burden',\n",
    "data_burden['sum_burden'] = np.add(data_burden['fin_burden'], data_burden['emot_burden'])\n",
    "data_burden['sum_burden'] = np.add(data_burden['sum_burden'], data_burden['phys_burden'])\n",
    "data_burden['sum_burden'] = np.add(data_burden['sum_burden'], data_burden['burden'])\n",
    "#data_burden['sum_burden'] = data_burden['sum_burden']/4"
   ]
  },
  {
   "cell_type": "code",
   "execution_count": 39,
   "metadata": {},
   "outputs": [
    {
     "data": {
      "text/plain": [
       "0       0.5000\n",
       "1       0.2500\n",
       "2       0.1250\n",
       "3       0.3750\n",
       "4       0.1875\n",
       "         ...  \n",
       "1543    0.2500\n",
       "1544    0.1250\n",
       "1545    0.1250\n",
       "1546    0.6250\n",
       "1547    0.3750\n",
       "Name: sum_burden2, Length: 1548, dtype: float64"
      ]
     },
     "execution_count": 39,
     "metadata": {},
     "output_type": "execute_result"
    }
   ],
   "source": [
    "data_burden['sum_burden2'] = (data_burden['sum_burden'] - np.min(data_burden['sum_burden'])) / (np.max(data_burden['sum_burden']) - np.min(data_burden['sum_burden']))\n",
    "data_burden['sum_burden2']"
   ]
  },
  {
   "cell_type": "code",
   "execution_count": 40,
   "metadata": {},
   "outputs": [
    {
     "data": {
      "text/plain": [
       "\"\\nf, ax = plt.subplots(figsize = (9, 6))\\ndf_cont = data_burden.pivot_table(index = 'illness', columns = 'year', values = 'burden', aggfunc = 'mean')\\nax = sns.heatmap(df_cont, annot = True, cmap = 'Blues', cbar = False).set(title='Burden of Care')\\n\\n\\n#sns.set_theme()\\nf, ax = plt.subplots(figsize = (9, 6))\\ndf_cont = data_burden.pivot_table(index = 'illness', columns = 'year', values = 'fin_burden', aggfunc = 'mean')\\nax = sns.heatmap(df_cont, annot = True, cmap = 'Blues', cbar = False).set(title='Financial Burden')\\n\\n#sns.set_theme()\\nf, ax = plt.subplots(figsize = (9, 6))\\ndf_cont = data_burden.pivot_table(index = 'illness', columns = 'year', values = 'emot_burden', aggfunc = 'mean')\\nax = sns.heatmap(df_cont, annot = True, cmap = 'Blues').set(title='Emotional Burden')\\n\\n#sns.set_theme()\\nf, ax = plt.subplots(figsize = (9, 6))\\ndf_cont = data_burden.pivot_table(index = 'illness', columns = 'year', values = 'phys_burden', aggfunc = 'mean')\\nax = sns.heatmap(df_cont, annot = True, cmap = 'Blues').set(title='Physical Burden')\\n\""
      ]
     },
     "execution_count": 40,
     "metadata": {},
     "output_type": "execute_result"
    },
    {
     "data": {
      "image/png": "[encoded data removed]",
      "text/plain": [
       "<Figure size 648x432 with 1 Axes>"
      ]
     },
     "metadata": {
      "needs_background": "light"
     },
     "output_type": "display_data"
    }
   ],
   "source": [
    "#sns.set_theme()\n",
    "f, ax = plt.subplots(figsize = (9, 6))\n",
    "df_cont = data_burden.pivot_table(index = 'illness', columns = 'year', values = 'sum_burden2', aggfunc = 'mean')\n",
    "ax = sns.heatmap(df_cont, annot = True, cmap = 'Blues', cbar = False).set(title='Sum of All Burden')\n",
    "\n",
    "\n",
    "\"\"\"\n",
    "f, ax = plt.subplots(figsize = (9, 6))\n",
    "df_cont = data_burden.pivot_table(index = 'illness', columns = 'year', values = 'burden', aggfunc = 'mean')\n",
    "ax = sns.heatmap(df_cont, annot = True, cmap = 'Blues', cbar = False).set(title='Burden of Care')\n",
    "\n",
    "\n",
    "#sns.set_theme()\n",
    "f, ax = plt.subplots(figsize = (9, 6))\n",
    "df_cont = data_burden.pivot_table(index = 'illness', columns = 'year', values = 'fin_burden', aggfunc = 'mean')\n",
    "ax = sns.heatmap(df_cont, annot = True, cmap = 'Blues', cbar = False).set(title='Financial Burden')\n",
    "\n",
    "#sns.set_theme()\n",
    "f, ax = plt.subplots(figsize = (9, 6))\n",
    "df_cont = data_burden.pivot_table(index = 'illness', columns = 'year', values = 'emot_burden', aggfunc = 'mean')\n",
    "ax = sns.heatmap(df_cont, annot = True, cmap = 'Blues').set(title='Emotional Burden')\n",
    "\n",
    "#sns.set_theme()\n",
    "f, ax = plt.subplots(figsize = (9, 6))\n",
    "df_cont = data_burden.pivot_table(index = 'illness', columns = 'year', values = 'phys_burden', aggfunc = 'mean')\n",
    "ax = sns.heatmap(df_cont, annot = True, cmap = 'Blues').set(title='Physical Burden')\n",
    "\"\"\""
   ]
  },
  {
   "cell_type": "markdown",
   "metadata": {},
   "source": [
    "## Lung Disease"
   ]
  },
  {
   "cell_type": "code",
   "execution_count": null,
   "metadata": {},
   "outputs": [],
   "source": [
    "data_2014 = data_burden[data_burden['year'] == 2014]\n",
    "data_2014 = data_2014[data_2014['illness'] == 'LungDisease']\n",
    "data_2019 = data_burden[data_burden['year'] == 2019]\n",
    "data_2019 = data_2019[data_2019['illness'] == 'LungDisease']\n",
    "total_2014 = (data_2014['help_with_bed']).count()\n",
    "total_2019 = (data_2019['help_with_bed']).count()"
   ]
  },
  {
   "cell_type": "code",
   "execution_count": null,
   "metadata": {},
   "outputs": [],
   "source": [
    "# Initialize data to lists.\n",
    "data_adl = [{'Category':'help_with_bed', 'year':2014, '% needed help': np.round(np.sum(data_2014['help_with_bed'])/total_2014*100,1)},\n",
    "        {'Category':'help_with_bed', 'year':2019, '% needed help': np.round(np.sum(data_2019['help_with_bed'])/total_2019*100,1)},\n",
    "        {'Category':'help_with_dressed', 'year':2014, '% needed help': np.round(np.sum(data_2014['help_with_dressed'])/total_2014*100,1)},\n",
    "        {'Category':'help_with_dressed', 'year':2019, '% needed help': np.round(np.sum(data_2019['help_with_dressed'])/total_2019*100,1)},\n",
    "        {'Category':'help_with_toilet', 'year':2014, '% needed help': np.round(np.sum(data_2014['help_with_toilet'])/total_2014*100,1)},\n",
    "        {'Category':'help_with_toilet', 'year':2019, '% needed help': np.round(np.sum(data_2019['help_with_toilet'])/total_2019*100,1)},\n",
    "        {'Category':'help_with_bathe', 'year':2014, '% needed help': np.round(np.sum(data_2014['help_with_bathe'])/total_2014*100,1)},\n",
    "        {'Category':'help_with_bathe', 'year':2019, '% needed help': np.round(np.sum(data_2019['help_with_bathe'])/total_2019*100,1)},\n",
    "        {'Category':'help_with_diapers', 'year':2014, '% needed help': np.round(np.sum(data_2014['help_with_diapers'])/total_2014*100,1)},\n",
    "        {'Category':'help_with_diapers', 'year':2019, '% needed help': np.round(np.sum(data_2019['help_with_diapers'])/total_2019*100,1)},\n",
    "        {'Category':'help_with_feeding', 'year':2014, '% needed help': np.round(np.sum(data_2014['help_with_feeding'])/total_2014*100,1)},\n",
    "        {'Category':'help_with_feeding', 'year':2019, '% needed help': np.round(np.sum(data_2019['help_with_feeding'])/total_2019*100,1)},\n",
    "        {'Category':'lives_with_patient', 'year':2014, '% needed help': np.round(np.sum(data_2014['lives_with_patient'])/total_2014*100,1)},\n",
    "        {'Category':'lives_with_patient', 'year':2019, '% needed help': np.round(np.sum(data_2019['lives_with_patient'])/total_2019*100,1)}\n",
    "]\n",
    "\n",
    "data_iadl = [\n",
    "        {'Category':'giving_medicine', 'year':2014, '% needed help': np.round(np.sum(data_2014['giving_medicine'])/total_2014*100,1)},\n",
    "        {'Category':'giving_medicine', 'year':2019, '% needed help': np.round(np.sum(data_2019['giving_medicine'])/total_2019*100,1)},\n",
    "        {'Category':'managing_finances', 'year':2014, '% needed help': np.round(np.sum(data_2014['managing_finances'])/total_2014*100,1)},\n",
    "        {'Category':'managing_finances', 'year':2019, '% needed help': np.round(np.sum(data_2019['managing_finances'])/total_2019*100,1)},\n",
    "        {'Category':'grocery', 'year':2014, '% needed help': np.round(np.sum(data_2014['grocery'])/total_2014*100,1)},\n",
    "        {'Category':'grocery', 'year':2019, '% needed help': np.round(np.sum(data_2019['grocery'])/total_2019*100,1)},\n",
    "        {'Category':'help_housework', 'year':2014, '% needed help': np.round(np.sum(data_2014['help_housework'])/total_2014*100,1)},\n",
    "        {'Category':'help_housework', 'year':2019, '% needed help': np.round(np.sum(data_2019['help_housework'])/total_2019*100,1)},\n",
    "        {'Category':'preparing_meals', 'year':2014, '% needed help': np.round(np.sum(data_2014['preparing_meals'])/total_2014*100,1)},\n",
    "        {'Category':'preparing_meals', 'year':2019, '% needed help': np.round(np.sum(data_2019['preparing_meals'])/total_2019*100,1)},\n",
    "        {'Category':'transportation', 'year':2014, '% needed help': np.round(np.sum(data_2014['transportation'])/total_2014*100,1)},\n",
    "        {'Category':'transportation', 'year':2019, '% needed help': np.round(np.sum(data_2019['transportation'])/total_2019*100)},\n",
    "        {'Category':'outside_services', 'year':2014, '% needed help': np.round(np.sum(data_2014['outside_services'])/total_2014*100)},\n",
    "        {'Category':'outside_services', 'year':2019, '% needed help': np.round(np.sum(data_2019['outside_services'])/total_2019*100)}\n",
    "]\n",
    "\n",
    "df_adl = pd.DataFrame(data_adl)\n",
    "df_iadl = pd.DataFrame(data_iadl)"
   ]
  },
  {
   "cell_type": "code",
   "execution_count": null,
   "metadata": {},
   "outputs": [],
   "source": [
    "sns.set_style('ticks')\n",
    "\n",
    "fig, ax = plt.subplots()\n",
    "fig.set_size_inches(12,6)\n",
    "ax = sns.barplot(x='Category', y='% needed help', hue = 'year', palette = \"Blues\", data = df_adl)\n",
    "for container in ax.containers:\n",
    "    ax.bar_label(container)\n",
    "ax.set(title='Changes in adl')"
   ]
  },
  {
   "cell_type": "code",
   "execution_count": null,
   "metadata": {},
   "outputs": [],
   "source": [
    "sns.set_style('ticks')\n",
    "fig, ax = plt.subplots()\n",
    "fig.set_size_inches(12,6)\n",
    "ax = sns.barplot(x='Category', y='% needed help', hue = 'year', palette = \"Blues\", data = df_iadl)\n",
    "for container in ax.containers:\n",
    "    ax.bar_label(container)\n",
    "ax.set(title='Changes in iadl')"
   ]
  },
  {
   "cell_type": "markdown",
   "metadata": {},
   "source": [
    "## Heart Disease"
   ]
  },
  {
   "cell_type": "code",
   "execution_count": null,
   "metadata": {},
   "outputs": [],
   "source": [
    "data_2014 = data_burden[data_burden['year'] == 2014]\n",
    "data_2014 = data_2014[data_2014['illness'] == 'HeartDisease']\n",
    "data_2019 = data_burden[data_burden['year'] == 2019]\n",
    "data_2019 = data_2019[data_2019['illness'] == 'HeartDisease']\n",
    "total_2014 = (data_2014['help_with_bed']).count()\n",
    "total_2019 = (data_2019['help_with_bed']).count()"
   ]
  },
  {
   "cell_type": "code",
   "execution_count": null,
   "metadata": {},
   "outputs": [],
   "source": [
    "# Initialize data to lists.\n",
    "data_adl = [{'Category':'help_with_bed', 'year':2014, '% needed help': np.round(np.sum(data_2014['help_with_bed'])/total_2014*100,1)},\n",
    "        {'Category':'help_with_bed', 'year':2019, '% needed help': np.round(np.sum(data_2019['help_with_bed'])/total_2019*100,1)},\n",
    "        {'Category':'help_with_dressed', 'year':2014, '% needed help': np.round(np.sum(data_2014['help_with_dressed'])/total_2014*100,1)},\n",
    "        {'Category':'help_with_dressed', 'year':2019, '% needed help': np.round(np.sum(data_2019['help_with_dressed'])/total_2019*100,1)},\n",
    "        {'Category':'help_with_toilet', 'year':2014, '% needed help': np.round(np.sum(data_2014['help_with_toilet'])/total_2014*100,1)},\n",
    "        {'Category':'help_with_toilet', 'year':2019, '% needed help': np.round(np.sum(data_2019['help_with_toilet'])/total_2019*100,1)},\n",
    "        {'Category':'help_with_bathe', 'year':2014, '% needed help': np.round(np.sum(data_2014['help_with_bathe'])/total_2014*100,1)},\n",
    "        {'Category':'help_with_bathe', 'year':2019, '% needed help': np.round(np.sum(data_2019['help_with_bathe'])/total_2019*100,1)},\n",
    "        {'Category':'help_with_diapers', 'year':2014, '% needed help': np.round(np.sum(data_2014['help_with_diapers'])/total_2014*100,1)},\n",
    "        {'Category':'help_with_diapers', 'year':2019, '% needed help': np.round(np.sum(data_2019['help_with_diapers'])/total_2019*100,1)},\n",
    "        {'Category':'help_with_feeding', 'year':2014, '% needed help': np.round(np.sum(data_2014['help_with_feeding'])/total_2014*100,1)},\n",
    "        {'Category':'help_with_feeding', 'year':2019, '% needed help': np.round(np.sum(data_2019['help_with_feeding'])/total_2019*100,1)},\n",
    "        {'Category':'lives_with_patient', 'year':2014, '% needed help': np.round(np.sum(data_2014['lives_with_patient'])/total_2014*100,1)},\n",
    "        {'Category':'lives_with_patient', 'year':2019, '% needed help': np.round(np.sum(data_2019['lives_with_patient'])/total_2019*100,1)}\n",
    "]\n",
    "\n",
    "data_iadl = [\n",
    "        {'Category':'giving_medicine', 'year':2014, '% needed help': np.round(np.sum(data_2014['giving_medicine'])/total_2014*100,1)},\n",
    "        {'Category':'giving_medicine', 'year':2019, '% needed help': np.round(np.sum(data_2019['giving_medicine'])/total_2019*100,1)},\n",
    "        {'Category':'managing_finances', 'year':2014, '% needed help': np.round(np.sum(data_2014['managing_finances'])/total_2014*100,1)},\n",
    "        {'Category':'managing_finances', 'year':2019, '% needed help': np.round(np.sum(data_2019['managing_finances'])/total_2019*100,1)},\n",
    "        {'Category':'grocery', 'year':2014, '% needed help': np.round(np.sum(data_2014['grocery'])/total_2014*100,1)},\n",
    "        {'Category':'grocery', 'year':2019, '% needed help': np.round(np.sum(data_2019['grocery'])/total_2019*100,1)},\n",
    "        {'Category':'help_housework', 'year':2014, '% needed help': np.round(np.sum(data_2014['help_housework'])/total_2014*100,1)},\n",
    "        {'Category':'help_housework', 'year':2019, '% needed help': np.round(np.sum(data_2019['help_housework'])/total_2019*100,1)},\n",
    "        {'Category':'preparing_meals', 'year':2014, '% needed help': np.round(np.sum(data_2014['preparing_meals'])/total_2014*100,1)},\n",
    "        {'Category':'preparing_meals', 'year':2019, '% needed help': np.round(np.sum(data_2019['preparing_meals'])/total_2019*100,1)},\n",
    "        {'Category':'transportation', 'year':2014, '% needed help': np.round(np.sum(data_2014['transportation'])/total_2014*100,1)},\n",
    "        {'Category':'transportation', 'year':2019, '% needed help': np.round(np.sum(data_2019['transportation'])/total_2019*100,1)},\n",
    "        {'Category':'outside_services', 'year':2014, '% needed help': np.round(np.sum(data_2014['outside_services'])/total_2014*100,1)},\n",
    "        {'Category':'outside_services', 'year':2019, '% needed help': np.round(np.sum(data_2019['outside_services'])/total_2019*100,1)}\n",
    "]\n",
    "\n",
    "df_adl = pd.DataFrame(data_adl)\n",
    "df_iadl = pd.DataFrame(data_iadl)"
   ]
  },
  {
   "cell_type": "code",
   "execution_count": null,
   "metadata": {},
   "outputs": [],
   "source": [
    "sns.set_style('ticks')\n",
    "fig, ax = plt.subplots()\n",
    "fig.set_size_inches(12,6)\n",
    "ax = sns.barplot(x='Category', y='% needed help', hue = 'year', palette = \"Blues\", data = df_adl)\n",
    "for container in ax.containers:\n",
    "    ax.bar_label(container)\n",
    "ax.set(title='Changes in adl')"
   ]
  },
  {
   "cell_type": "code",
   "execution_count": null,
   "metadata": {},
   "outputs": [],
   "source": [
    "sns.set_style('ticks')\n",
    "fig, ax = plt.subplots()\n",
    "fig.set_size_inches(12,6)\n",
    "ax = sns.barplot(x='Category', y='% needed help', hue = 'year', palette = \"Blues\", data = df_iadl)\n",
    "for container in ax.containers:\n",
    "    ax.bar_label(container)\n",
    "ax.set(title='Changes in iadl')"
   ]
  },
  {
   "cell_type": "markdown",
   "metadata": {},
   "source": [
    "## Broken Bones"
   ]
  },
  {
   "cell_type": "code",
   "execution_count": null,
   "metadata": {},
   "outputs": [],
   "source": [
    "data_2014 = data_burden[data_burden['year'] == 2014]\n",
    "data_2014 = data_2014[data_2014['illness'] == 'BrokenBones']\n",
    "data_2019 = data_burden[data_burden['year'] == 2019]\n",
    "data_2019 = data_2019[data_2019['illness'] == 'BrokenBones']\n",
    "total_2014 = (data_2014['help_with_bed']).count()\n",
    "total_2019 = (data_2019['help_with_bed']).count()"
   ]
  },
  {
   "cell_type": "code",
   "execution_count": null,
   "metadata": {},
   "outputs": [],
   "source": [
    "# Initialize data to lists.\n",
    "data_adl = [{'Category':'help_with_bed', 'year':2014, '% needed help': np.round(np.sum(data_2014['help_with_bed'])/total_2014*100,1)},\n",
    "        {'Category':'help_with_bed', 'year':2019, '% needed help': np.round(np.sum(data_2019['help_with_bed'])/total_2019*100,1)},\n",
    "        {'Category':'help_with_dressed', 'year':2014, '% needed help': np.round(np.sum(data_2014['help_with_dressed'])/total_2014*100,1)},\n",
    "        {'Category':'help_with_dressed', 'year':2019, '% needed help': np.round(np.sum(data_2019['help_with_dressed'])/total_2019*100,1)},\n",
    "        {'Category':'help_with_toilet', 'year':2014, '% needed help': np.round(np.sum(data_2014['help_with_toilet'])/total_2014*100,1)},\n",
    "        {'Category':'help_with_toilet', 'year':2019, '% needed help': np.round(np.sum(data_2019['help_with_toilet'])/total_2019*100,1)},\n",
    "        {'Category':'help_with_bathe', 'year':2014, '% needed help': np.round(np.sum(data_2014['help_with_bathe'])/total_2014*100,1)},\n",
    "        {'Category':'help_with_bathe', 'year':2019, '% needed help': np.round(np.sum(data_2019['help_with_bathe'])/total_2019*100,1)},\n",
    "        {'Category':'help_with_diapers', 'year':2014, '% needed help': np.round(np.sum(data_2014['help_with_diapers'])/total_2014*100,1)},\n",
    "        {'Category':'help_with_diapers', 'year':2019, '% needed help': np.round(np.sum(data_2019['help_with_diapers'])/total_2019*100,1)},\n",
    "        {'Category':'help_with_feeding', 'year':2014, '% needed help': np.round(np.sum(data_2014['help_with_feeding'])/total_2014*100,1)},\n",
    "        {'Category':'help_with_feeding', 'year':2019, '% needed help': np.round(np.sum(data_2019['help_with_feeding'])/total_2019*100,1)},\n",
    "        {'Category':'lives_with_patient', 'year':2014, '% needed help': np.round(np.sum(data_2014['lives_with_patient'])/total_2014*100,1)},\n",
    "        {'Category':'lives_with_patient', 'year':2019, '% needed help': np.round(np.sum(data_2019['lives_with_patient'])/total_2019*100,1)}\n",
    "]\n",
    "\n",
    "data_iadl = [\n",
    "        {'Category':'giving_medicine', 'year':2014, '% needed help': np.round(np.sum(data_2014['giving_medicine'])/total_2014*100,1)},\n",
    "        {'Category':'giving_medicine', 'year':2019, '% needed help': np.round(np.sum(data_2019['giving_medicine'])/total_2019*100,1)},\n",
    "        {'Category':'managing_finances', 'year':2014, '% needed help': np.round(np.sum(data_2014['managing_finances'])/total_2014*100,1)},\n",
    "        {'Category':'managing_finances', 'year':2019, '% needed help': np.round(np.sum(data_2019['managing_finances'])/total_2019*100,1)},\n",
    "        {'Category':'grocery', 'year':2014, '% needed help': np.round(np.sum(data_2014['grocery'])/total_2014*100,1)},\n",
    "        {'Category':'grocery', 'year':2019, '% needed help': np.round(np.sum(data_2019['grocery'])/total_2019*100,1)},\n",
    "        {'Category':'help_housework', 'year':2014, '% needed help': np.round(np.sum(data_2014['help_housework'])/total_2014*100,1)},\n",
    "        {'Category':'help_housework', 'year':2019, '% needed help': np.round(np.sum(data_2019['help_housework'])/total_2019*100,1)},\n",
    "        {'Category':'preparing_meals', 'year':2014, '% needed help': np.round(np.sum(data_2014['preparing_meals'])/total_2014*100,1)},\n",
    "        {'Category':'preparing_meals', 'year':2019, '% needed help': np.round(np.sum(data_2019['preparing_meals'])/total_2019*100,1)},\n",
    "        {'Category':'transportation', 'year':2014, '% needed help': np.round(np.sum(data_2014['transportation'])/total_2014*100,1)},\n",
    "        {'Category':'transportation', 'year':2019, '% needed help': np.round(np.sum(data_2019['transportation'])/total_2019*100,1)},\n",
    "        {'Category':'outside_services', 'year':2014, '% needed help': np.round(np.sum(data_2014['outside_services'])/total_2014*100,1)},\n",
    "        {'Category':'outside_services', 'year':2019, '% needed help': np.round(np.sum(data_2019['outside_services'])/total_2019*100,1)}\n",
    "]\n",
    "\n",
    "df_adl = pd.DataFrame(data_adl)\n",
    "df_iadl = pd.DataFrame(data_iadl)"
   ]
  },
  {
   "cell_type": "code",
   "execution_count": null,
   "metadata": {},
   "outputs": [],
   "source": [
    "sns.set_style('ticks')\n",
    "fig, ax = plt.subplots()\n",
    "fig.set_size_inches(12,6)\n",
    "ax = sns.barplot(x='Category', y='% needed help', hue = 'year', palette = \"Blues\", data = df_adl)\n",
    "for container in ax.containers:\n",
    "    ax.bar_label(container)\n",
    "ax.set(title='Changes in adl')"
   ]
  },
  {
   "cell_type": "code",
   "execution_count": null,
   "metadata": {},
   "outputs": [],
   "source": [
    "sns.set_style('ticks')\n",
    "fig, ax = plt.subplots()\n",
    "fig.set_size_inches(12,6)\n",
    "ax = sns.barplot(x='Category', y='% needed help', hue = 'year', palette = \"Blues\", data = df_iadl)\n",
    "for container in ax.containers:\n",
    "    ax.bar_label(container)\n",
    "ax.set(title='Changes in iadl')"
   ]
  },
  {
   "cell_type": "markdown",
   "metadata": {},
   "source": [
    "## Cancer"
   ]
  },
  {
   "cell_type": "code",
   "execution_count": null,
   "metadata": {},
   "outputs": [],
   "source": [
    "data_2014 = data_burden[data_burden['year'] == 2014]\n",
    "data_2014 = data_2014[data_2014['illness'] == 'Cancer']\n",
    "data_2019 = data_burden[data_burden['year'] == 2019]\n",
    "data_2019 = data_2019[data_2019['illness'] == 'Cancer']\n",
    "total_2014 = (data_2014['help_with_bed']).count()\n",
    "total_2019 = (data_2019['help_with_bed']).count()"
   ]
  },
  {
   "cell_type": "code",
   "execution_count": null,
   "metadata": {},
   "outputs": [],
   "source": [
    "# Initialize data to lists.\n",
    "data_adl = [{'Category':'help_with_bed', 'year':2014, '% needed help': np.round(np.sum(data_2014['help_with_bed'])/total_2014*100,1)},\n",
    "        {'Category':'help_with_bed', 'year':2019, '% needed help': np.round(np.sum(data_2019['help_with_bed'])/total_2019*100,1)},\n",
    "        {'Category':'help_with_dressed', 'year':2014, '% needed help': np.round(np.sum(data_2014['help_with_dressed'])/total_2014*100,1)},\n",
    "        {'Category':'help_with_dressed', 'year':2019, '% needed help': np.round(np.sum(data_2019['help_with_dressed'])/total_2019*100,1)},\n",
    "        {'Category':'help_with_toilet', 'year':2014, '% needed help': np.round(np.sum(data_2014['help_with_toilet'])/total_2014*100,1)},\n",
    "        {'Category':'help_with_toilet', 'year':2019, '% needed help': np.round(np.sum(data_2019['help_with_toilet'])/total_2019*100,1)},\n",
    "        {'Category':'help_with_bathe', 'year':2014, '% needed help': np.round(np.sum(data_2014['help_with_bathe'])/total_2014*100,1)},\n",
    "        {'Category':'help_with_bathe', 'year':2019, '% needed help': np.round(np.sum(data_2019['help_with_bathe'])/total_2019*100,1)},\n",
    "        {'Category':'help_with_diapers', 'year':2014, '% needed help': np.round(np.sum(data_2014['help_with_diapers'])/total_2014*100,1)},\n",
    "        {'Category':'help_with_diapers', 'year':2019, '% needed help': np.round(np.sum(data_2019['help_with_diapers'])/total_2019*100,1)},\n",
    "        {'Category':'help_with_feeding', 'year':2014, '% needed help': np.round(np.sum(data_2014['help_with_feeding'])/total_2014*100,1)},\n",
    "        {'Category':'help_with_feeding', 'year':2019, '% needed help': np.round(np.sum(data_2019['help_with_feeding'])/total_2019*100,1)},\n",
    "        {'Category':'lives_with_patient', 'year':2014, '% needed help': np.round(np.sum(data_2014['lives_with_patient'])/total_2014*100,1)},\n",
    "        {'Category':'lives_with_patient', 'year':2019, '% needed help': np.round(np.sum(data_2019['lives_with_patient'])/total_2019*100,1)}\n",
    "]\n",
    "\n",
    "data_iadl = [\n",
    "        {'Category':'giving_medicine', 'year':2014, '% needed help': np.round(np.sum(data_2014['giving_medicine'])/total_2014*100,1)},\n",
    "        {'Category':'giving_medicine', 'year':2019, '% needed help': np.round(np.sum(data_2019['giving_medicine'])/total_2019*100,1)},\n",
    "        {'Category':'managing_finances', 'year':2014, '% needed help': np.round(np.sum(data_2014['managing_finances'])/total_2014*100,1)},\n",
    "        {'Category':'managing_finances', 'year':2019, '% needed help': np.round(np.sum(data_2019['managing_finances'])/total_2019*100,1)},\n",
    "        {'Category':'grocery', 'year':2014, '% needed help': np.round(np.sum(data_2014['grocery'])/total_2014*100,1)},\n",
    "        {'Category':'grocery', 'year':2019, '% needed help': np.round(np.sum(data_2019['grocery'])/total_2019*100,1)},\n",
    "        {'Category':'help_housework', 'year':2014, '% needed help': np.round(np.sum(data_2014['help_housework'])/total_2014*100,1)},\n",
    "        {'Category':'help_housework', 'year':2019, '% needed help': np.round(np.sum(data_2019['help_housework'])/total_2019*100,1)},\n",
    "        {'Category':'preparing_meals', 'year':2014, '% needed help': np.round(np.sum(data_2014['preparing_meals'])/total_2014*100,1)},\n",
    "        {'Category':'preparing_meals', 'year':2019, '% needed help': np.round(np.sum(data_2019['preparing_meals'])/total_2019*100,1)},\n",
    "        {'Category':'transportation', 'year':2014, '% needed help': np.round(np.sum(data_2014['transportation'])/total_2014*100,1)},\n",
    "        {'Category':'transportation', 'year':2019, '% needed help': np.round(np.sum(data_2019['transportation'])/total_2019*100,1)},\n",
    "        {'Category':'outside_services', 'year':2014, '% needed help': np.round(np.sum(data_2014['outside_services'])/total_2014*100,1)},\n",
    "        {'Category':'outside_services', 'year':2019, '% needed help': np.round(np.sum(data_2019['outside_services'])/total_2019*100,1)}\n",
    "]\n",
    "\n",
    "df_adl = pd.DataFrame(data_adl)\n",
    "df_iadl = pd.DataFrame(data_iadl)"
   ]
  },
  {
   "cell_type": "code",
   "execution_count": null,
   "metadata": {},
   "outputs": [],
   "source": [
    "sns.set_style('ticks')\n",
    "fig, ax = plt.subplots()\n",
    "fig.set_size_inches(12,6)\n",
    "ax = sns.barplot(x='Category', y='% needed help', hue = 'year', palette = \"Blues\", data = df_adl)\n",
    "for container in ax.containers:\n",
    "    ax.bar_label(container)\n",
    "ax.set(title='Changes in adl')"
   ]
  },
  {
   "cell_type": "code",
   "execution_count": null,
   "metadata": {},
   "outputs": [],
   "source": [
    "sns.set_style('ticks')\n",
    "fig, ax = plt.subplots()\n",
    "fig.set_size_inches(12,6)\n",
    "ax = sns.barplot(x='Category', y='% needed help', hue = 'year', palette = \"Blues\", data = df_iadl)\n",
    "for container in ax.containers:\n",
    "    ax.bar_label(container)\n",
    "ax.set(title='Changes in iadl')"
   ]
  },
  {
   "cell_type": "markdown",
   "metadata": {},
   "source": [
    "## Surgery"
   ]
  },
  {
   "cell_type": "code",
   "execution_count": null,
   "metadata": {},
   "outputs": [],
   "source": [
    "data_2014 = data_burden[data_burden['year'] == 2014]\n",
    "data_2014 = data_2014[data_2014['illness'] == 'Surgery']\n",
    "data_2019 = data_burden[data_burden['year'] == 2019]\n",
    "data_2019 = data_2019[data_2019['illness'] == 'Surgery']\n",
    "total_2014 = (data_2014['help_with_bed']).count()\n",
    "total_2019 = (data_2019['help_with_bed']).count()"
   ]
  },
  {
   "cell_type": "code",
   "execution_count": null,
   "metadata": {},
   "outputs": [],
   "source": [
    "# Initialize data to lists.\n",
    "data_adl = [{'Category':'help_with_bed', 'year':2014, '% needed help': np.round(np.sum(data_2014['help_with_bed'])/total_2014*100,1)},\n",
    "        {'Category':'help_with_bed', 'year':2019, '% needed help': np.round(np.sum(data_2019['help_with_bed'])/total_2019*100,1)},\n",
    "        {'Category':'help_with_dressed', 'year':2014, '% needed help': np.round(np.sum(data_2014['help_with_dressed'])/total_2014*100,1)},\n",
    "        {'Category':'help_with_dressed', 'year':2019, '% needed help': np.round(np.sum(data_2019['help_with_dressed'])/total_2019*100,1)},\n",
    "        {'Category':'help_with_toilet', 'year':2014, '% needed help': np.round(np.sum(data_2014['help_with_toilet'])/total_2014*100,1)},\n",
    "        {'Category':'help_with_toilet', 'year':2019, '% needed help': np.round(np.sum(data_2019['help_with_toilet'])/total_2019*100,1)},\n",
    "        {'Category':'help_with_bathe', 'year':2014, '% needed help': np.round(np.sum(data_2014['help_with_bathe'])/total_2014*100,1)},\n",
    "        {'Category':'help_with_bathe', 'year':2019, '% needed help': np.round(np.sum(data_2019['help_with_bathe'])/total_2019*100,1)},\n",
    "        {'Category':'help_with_diapers', 'year':2014, '% needed help': np.round(np.sum(data_2014['help_with_diapers'])/total_2014*100,1)},\n",
    "        {'Category':'help_with_diapers', 'year':2019, '% needed help': np.round(np.sum(data_2019['help_with_diapers'])/total_2019*100,1)},\n",
    "        {'Category':'help_with_feeding', 'year':2014, '% needed help': np.round(np.sum(data_2014['help_with_feeding'])/total_2014*100,1)},\n",
    "        {'Category':'help_with_feeding', 'year':2019, '% needed help': np.round(np.sum(data_2019['help_with_feeding'])/total_2019*100,1)},\n",
    "        {'Category':'lives_with_patient', 'year':2014, '% needed help': np.round(np.sum(data_2014['lives_with_patient'])/total_2014*100,1)},\n",
    "        {'Category':'lives_with_patient', 'year':2019, '% needed help': np.round(np.sum(data_2019['lives_with_patient'])/total_2019*100,1)}\n",
    "]\n",
    "\n",
    "data_iadl = [\n",
    "        {'Category':'giving_medicine', 'year':2014, '% needed help': np.round(np.sum(data_2014['giving_medicine'])/total_2014*100,1)},\n",
    "        {'Category':'giving_medicine', 'year':2019, '% needed help': np.round(np.sum(data_2019['giving_medicine'])/total_2019*100,1)},\n",
    "        {'Category':'managing_finances', 'year':2014, '% needed help': np.round(np.sum(data_2014['managing_finances'])/total_2014*100,1)},\n",
    "        {'Category':'managing_finances', 'year':2019, '% needed help': np.round(np.sum(data_2019['managing_finances'])/total_2019*100,1)},\n",
    "        {'Category':'grocery', 'year':2014, '% needed help': np.round(np.sum(data_2014['grocery'])/total_2014*100,1)},\n",
    "        {'Category':'grocery', 'year':2019, '% needed help': np.round(np.sum(data_2019['grocery'])/total_2019*100,1)},\n",
    "        {'Category':'help_housework', 'year':2014, '% needed help': np.round(np.sum(data_2014['help_housework'])/total_2014*100,1)},\n",
    "        {'Category':'help_housework', 'year':2019, '% needed help': np.round(np.sum(data_2019['help_housework'])/total_2019*100,1)},\n",
    "        {'Category':'preparing_meals', 'year':2014, '% needed help': np.round(np.sum(data_2014['preparing_meals'])/total_2014*100,1)},\n",
    "        {'Category':'preparing_meals', 'year':2019, '% needed help': np.round(np.sum(data_2019['preparing_meals'])/total_2019*100,1)},\n",
    "        {'Category':'transportation', 'year':2014, '% needed help': np.round(np.sum(data_2014['transportation'])/total_2014*100,1)},\n",
    "        {'Category':'transportation', 'year':2019, '% needed help': np.round(np.sum(data_2019['transportation'])/total_2019*100,1)},\n",
    "        {'Category':'outside_services', 'year':2014, '% needed help': np.round(np.sum(data_2014['outside_services'])/total_2014*100,1)},\n",
    "        {'Category':'outside_services', 'year':2019, '% needed help': np.round(np.sum(data_2019['outside_services'])/total_2019*100,1)}\n",
    "]\n",
    "\n",
    "df_adl = pd.DataFrame(data_adl)\n",
    "df_iadl = pd.DataFrame(data_iadl)"
   ]
  },
  {
   "cell_type": "code",
   "execution_count": null,
   "metadata": {},
   "outputs": [],
   "source": [
    "sns.set_style('ticks')\n",
    "fig, ax = plt.subplots()\n",
    "fig.set_size_inches(12,6)\n",
    "ax = sns.barplot(x='Category', y='% needed help', hue = 'year', palette = \"Blues\", data = df_adl)\n",
    "for container in ax.containers:\n",
    "    ax.bar_label(container)\n",
    "ax.set(title='Changes in adl')"
   ]
  },
  {
   "cell_type": "code",
   "execution_count": null,
   "metadata": {},
   "outputs": [],
   "source": [
    "sns.set_style('ticks')\n",
    "fig, ax = plt.subplots()\n",
    "fig.set_size_inches(12,6)\n",
    "ax = sns.barplot(x='Category', y='% needed help', hue = 'year', palette = \"Blues\", data = df_iadl)\n",
    "for container in ax.containers:\n",
    "    ax.bar_label(container)\n",
    "ax.set(title='Changes in iadl')"
   ]
  },
  {
   "cell_type": "markdown",
   "metadata": {},
   "source": [
    "## Mobility Problem"
   ]
  },
  {
   "cell_type": "code",
   "execution_count": null,
   "metadata": {},
   "outputs": [],
   "source": [
    "data_2014 = data_burden[data_burden['year'] == 2014]\n",
    "data_2014 = data_2014[data_2014['illness'] == 'MobilityProblem']\n",
    "data_2019 = data_burden[data_burden['year'] == 2019]\n",
    "data_2019 = data_2019[data_2019['illness'] == 'MobilityProblem']\n",
    "total_2014 = (data_2014['help_with_bed']).count()\n",
    "total_2019 = (data_2019['help_with_bed']).count()"
   ]
  },
  {
   "cell_type": "code",
   "execution_count": null,
   "metadata": {},
   "outputs": [],
   "source": [
    "# Initialize data to lists.\n",
    "data_adl = [{'Category':'help_with_bed', 'year':2014, '% needed help': np.round(np.sum(data_2014['help_with_bed'])/total_2014*100,1)},\n",
    "        {'Category':'help_with_bed', 'year':2019, '% needed help': np.round(np.sum(data_2019['help_with_bed'])/total_2019*100,1)},\n",
    "        {'Category':'help_with_dressed', 'year':2014, '% needed help': np.round(np.sum(data_2014['help_with_dressed'])/total_2014*100,1)},\n",
    "        {'Category':'help_with_dressed', 'year':2019, '% needed help': np.round(np.sum(data_2019['help_with_dressed'])/total_2019*100,1)},\n",
    "        {'Category':'help_with_toilet', 'year':2014, '% needed help': np.round(np.sum(data_2014['help_with_toilet'])/total_2014*100,1)},\n",
    "        {'Category':'help_with_toilet', 'year':2019, '% needed help': np.round(np.sum(data_2019['help_with_toilet'])/total_2019*100,1)},\n",
    "        {'Category':'help_with_bathe', 'year':2014, '% needed help': np.round(np.sum(data_2014['help_with_bathe'])/total_2014*100,1)},\n",
    "        {'Category':'help_with_bathe', 'year':2019, '% needed help': np.round(np.sum(data_2019['help_with_bathe'])/total_2019*100,1)},\n",
    "        {'Category':'help_with_diapers', 'year':2014, '% needed help': np.round(np.sum(data_2014['help_with_diapers'])/total_2014*100,1)},\n",
    "        {'Category':'help_with_diapers', 'year':2019, '% needed help': np.round(np.sum(data_2019['help_with_diapers'])/total_2019*100,1)},\n",
    "        {'Category':'help_with_feeding', 'year':2014, '% needed help': np.round(np.sum(data_2014['help_with_feeding'])/total_2014*100,1)},\n",
    "        {'Category':'help_with_feeding', 'year':2019, '% needed help': np.round(np.sum(data_2019['help_with_feeding'])/total_2019*100,1)},\n",
    "        {'Category':'lives_with_patient', 'year':2014, '% needed help': np.round(np.sum(data_2014['lives_with_patient'])/total_2014*100,1)},\n",
    "        {'Category':'lives_with_patient', 'year':2019, '% needed help': np.round(np.sum(data_2019['lives_with_patient'])/total_2019*100,1)}\n",
    "]\n",
    "\n",
    "data_iadl = [\n",
    "        {'Category':'giving_medicine', 'year':2014, '% needed help': np.round(np.sum(data_2014['giving_medicine'])/total_2014*100,1)},\n",
    "        {'Category':'giving_medicine', 'year':2019, '% needed help': np.round(np.sum(data_2019['giving_medicine'])/total_2019*100,1)},\n",
    "        {'Category':'managing_finances', 'year':2014, '% needed help': np.round(np.sum(data_2014['managing_finances'])/total_2014*100,1)},\n",
    "        {'Category':'managing_finances', 'year':2019, '% needed help': np.round(np.sum(data_2019['managing_finances'])/total_2019*100,1)},\n",
    "        {'Category':'grocery', 'year':2014, '% needed help': np.round(np.sum(data_2014['grocery'])/total_2014*100,1)},\n",
    "        {'Category':'grocery', 'year':2019, '% needed help': np.round(np.sum(data_2019['grocery'])/total_2019*100,1)},\n",
    "        {'Category':'help_housework', 'year':2014, '% needed help': np.round(np.sum(data_2014['help_housework'])/total_2014*100,1)},\n",
    "        {'Category':'help_housework', 'year':2019, '% needed help': np.round(np.sum(data_2019['help_housework'])/total_2019*100,1)},\n",
    "        {'Category':'preparing_meals', 'year':2014, '% needed help': np.round(np.sum(data_2014['preparing_meals'])/total_2014*100,1)},\n",
    "        {'Category':'preparing_meals', 'year':2019, '% needed help': np.round(np.sum(data_2019['preparing_meals'])/total_2019*100,1)},\n",
    "        {'Category':'transportation', 'year':2014, '% needed help': np.round(np.sum(data_2014['transportation'])/total_2014*100,1)},\n",
    "        {'Category':'transportation', 'year':2019, '% needed help': np.round(np.sum(data_2019['transportation'])/total_2019*100,1)},\n",
    "        {'Category':'outside_services', 'year':2014, '% needed help': np.round(np.sum(data_2014['outside_services'])/total_2014*100,1)},\n",
    "        {'Category':'outside_services', 'year':2019, '% needed help': np.round(np.sum(data_2019['outside_services'])/total_2019*100,1)}\n",
    "]\n",
    "\n",
    "df_adl = pd.DataFrame(data_adl)\n",
    "df_iadl = pd.DataFrame(data_iadl)"
   ]
  },
  {
   "cell_type": "code",
   "execution_count": null,
   "metadata": {},
   "outputs": [],
   "source": [
    "sns.set_style('ticks')\n",
    "fig, ax = plt.subplots()\n",
    "fig.set_size_inches(12,6)\n",
    "ax = sns.barplot(x='Category', y='% needed help', hue = 'year', palette = \"Blues\", data = df_adl)\n",
    "for container in ax.containers:\n",
    "    ax.bar_label(container)\n",
    "ax.set(title='Changes in adl')"
   ]
  },
  {
   "cell_type": "code",
   "execution_count": null,
   "metadata": {},
   "outputs": [],
   "source": [
    "sns.set_style('ticks')\n",
    "fig, ax = plt.subplots()\n",
    "fig.set_size_inches(12,6)\n",
    "ax = sns.barplot(x='Category', y='% needed help', hue = 'year', palette = \"Blues\", data = df_iadl)\n",
    "for container in ax.containers:\n",
    "    ax.bar_label(container)\n",
    "ax.set(title='Changes in iadl')"
   ]
  },
  {
   "cell_type": "code",
   "execution_count": null,
   "metadata": {},
   "outputs": [],
   "source": []
  }
 ],
 "metadata": {
  "kernelspec": {
   "display_name": "Python 3.9.12 ('base')",
   "language": "python",
   "name": "python3"
  },
  "language_info": {
   "codemirror_mode": {
    "name": "ipython",
    "version": 3
   },
   "file_extension": ".py",
   "mimetype": "text/x-python",
   "name": "python",
   "nbconvert_exporter": "python",
   "pygments_lexer": "ipython3",
   "version": "3.9.12"
  },
  "orig_nbformat": 4,
  "vscode": {
   "interpreter": {
    "hash": "723860b9bcb0b1e72b55ae11883eb093fb3432a85486e4dad0490b6a92cc27fa"
   }
  }
 },
 "nbformat": 4,
 "nbformat_minor": 2
}
