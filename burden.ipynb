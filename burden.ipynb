{
 "cells": [
  {
   "cell_type": "code",
   "execution_count": 1,
   "metadata": {},
   "outputs": [],
   "source": [
    "import pandas as pd\n",
    "import numpy as np\n",
    "import matplotlib.pyplot as plt\n",
    "import seaborn as sns"
   ]
  },
  {
   "cell_type": "code",
   "execution_count": 2,
   "metadata": {},
   "outputs": [
    {
     "data": {
      "text/html": [
       "<div>\n",
       "<style scoped>\n",
       "    .dataframe tbody tr th:only-of-type {\n",
       "        vertical-align: middle;\n",
       "    }\n",
       "\n",
       "    .dataframe tbody tr th {\n",
       "        vertical-align: top;\n",
       "    }\n",
       "\n",
       "    .dataframe thead th {\n",
       "        text-align: right;\n",
       "    }\n",
       "</style>\n",
       "<table border=\"1\" class=\"dataframe\">\n",
       "  <thead>\n",
       "    <tr style=\"text-align: right;\">\n",
       "      <th></th>\n",
       "      <th>feature</th>\n",
       "      <th>importance</th>\n",
       "    </tr>\n",
       "  </thead>\n",
       "  <tbody>\n",
       "    <tr>\n",
       "      <th>82</th>\n",
       "      <td>burdcat</td>\n",
       "      <td>0.200715</td>\n",
       "    </tr>\n",
       "    <tr>\n",
       "      <th>79</th>\n",
       "      <td>HOURS</td>\n",
       "      <td>0.141710</td>\n",
       "    </tr>\n",
       "    <tr>\n",
       "      <th>80</th>\n",
       "      <td>hourscat</td>\n",
       "      <td>0.139854</td>\n",
       "    </tr>\n",
       "    <tr>\n",
       "      <th>66</th>\n",
       "      <td>adls</td>\n",
       "      <td>0.106888</td>\n",
       "    </tr>\n",
       "    <tr>\n",
       "      <th>81</th>\n",
       "      <td>banhours</td>\n",
       "      <td>0.075357</td>\n",
       "    </tr>\n",
       "    <tr>\n",
       "      <th>78</th>\n",
       "      <td>Q25</td>\n",
       "      <td>0.062075</td>\n",
       "    </tr>\n",
       "    <tr>\n",
       "      <th>60</th>\n",
       "      <td>q22a</td>\n",
       "      <td>0.037226</td>\n",
       "    </tr>\n",
       "    <tr>\n",
       "      <th>61</th>\n",
       "      <td>q22b</td>\n",
       "      <td>0.033952</td>\n",
       "    </tr>\n",
       "    <tr>\n",
       "      <th>62</th>\n",
       "      <td>q22c</td>\n",
       "      <td>0.028694</td>\n",
       "    </tr>\n",
       "    <tr>\n",
       "      <th>63</th>\n",
       "      <td>q22d</td>\n",
       "      <td>0.021017</td>\n",
       "    </tr>\n",
       "    <tr>\n",
       "      <th>64</th>\n",
       "      <td>q22e</td>\n",
       "      <td>0.015018</td>\n",
       "    </tr>\n",
       "    <tr>\n",
       "      <th>74</th>\n",
       "      <td>iadls</td>\n",
       "      <td>0.013933</td>\n",
       "    </tr>\n",
       "    <tr>\n",
       "      <th>65</th>\n",
       "      <td>q22f</td>\n",
       "      <td>0.013153</td>\n",
       "    </tr>\n",
       "    <tr>\n",
       "      <th>83</th>\n",
       "      <td>N3</td>\n",
       "      <td>0.013067</td>\n",
       "    </tr>\n",
       "    <tr>\n",
       "      <th>71</th>\n",
       "      <td>q23d</td>\n",
       "      <td>0.010362</td>\n",
       "    </tr>\n",
       "    <tr>\n",
       "      <th>67</th>\n",
       "      <td>q22g</td>\n",
       "      <td>0.007573</td>\n",
       "    </tr>\n",
       "    <tr>\n",
       "      <th>91</th>\n",
       "      <td>Q35</td>\n",
       "      <td>0.006329</td>\n",
       "    </tr>\n",
       "    <tr>\n",
       "      <th>70</th>\n",
       "      <td>q23c</td>\n",
       "      <td>0.005299</td>\n",
       "    </tr>\n",
       "    <tr>\n",
       "      <th>69</th>\n",
       "      <td>q23b</td>\n",
       "      <td>0.004043</td>\n",
       "    </tr>\n",
       "    <tr>\n",
       "      <th>41</th>\n",
       "      <td>Q11</td>\n",
       "      <td>0.003375</td>\n",
       "    </tr>\n",
       "    <tr>\n",
       "      <th>44</th>\n",
       "      <td>banlives</td>\n",
       "      <td>0.003241</td>\n",
       "    </tr>\n",
       "    <tr>\n",
       "      <th>43</th>\n",
       "      <td>lives</td>\n",
       "      <td>0.002349</td>\n",
       "    </tr>\n",
       "    <tr>\n",
       "      <th>102</th>\n",
       "      <td>q45e</td>\n",
       "      <td>0.002110</td>\n",
       "    </tr>\n",
       "    <tr>\n",
       "      <th>76</th>\n",
       "      <td>q23i</td>\n",
       "      <td>0.001893</td>\n",
       "    </tr>\n",
       "    <tr>\n",
       "      <th>73</th>\n",
       "      <td>q23f</td>\n",
       "      <td>0.001724</td>\n",
       "    </tr>\n",
       "    <tr>\n",
       "      <th>77</th>\n",
       "      <td>q23j</td>\n",
       "      <td>0.001580</td>\n",
       "    </tr>\n",
       "    <tr>\n",
       "      <th>0</th>\n",
       "      <td>TRENDID</td>\n",
       "      <td>0.001557</td>\n",
       "    </tr>\n",
       "    <tr>\n",
       "      <th>36</th>\n",
       "      <td>agecr</td>\n",
       "      <td>0.001554</td>\n",
       "    </tr>\n",
       "    <tr>\n",
       "      <th>111</th>\n",
       "      <td>D2</td>\n",
       "      <td>0.001528</td>\n",
       "    </tr>\n",
       "  </tbody>\n",
       "</table>\n",
       "</div>"
      ],
      "text/plain": [
       "      feature  importance\n",
       "82    burdcat    0.200715\n",
       "79      HOURS    0.141710\n",
       "80   hourscat    0.139854\n",
       "66       adls    0.106888\n",
       "81   banhours    0.075357\n",
       "78        Q25    0.062075\n",
       "60       q22a    0.037226\n",
       "61       q22b    0.033952\n",
       "62       q22c    0.028694\n",
       "63       q22d    0.021017\n",
       "64       q22e    0.015018\n",
       "74      iadls    0.013933\n",
       "65       q22f    0.013153\n",
       "83         N3    0.013067\n",
       "71       q23d    0.010362\n",
       "67       q22g    0.007573\n",
       "91        Q35    0.006329\n",
       "70       q23c    0.005299\n",
       "69       q23b    0.004043\n",
       "41        Q11    0.003375\n",
       "44   banlives    0.003241\n",
       "43      lives    0.002349\n",
       "102      q45e    0.002110\n",
       "76       q23i    0.001893\n",
       "73       q23f    0.001724\n",
       "77       q23j    0.001580\n",
       "0     TRENDID    0.001557\n",
       "36      agecr    0.001554\n",
       "111        D2    0.001528"
      ]
     },
     "execution_count": 2,
     "metadata": {},
     "output_type": "execute_result"
    }
   ],
   "source": [
    "data_burden = pd.read_csv('data.csv')\n",
    "data_burden = data_burden[data_burden['burden'].notna()]\n",
    "data_burden = data_burden[data_burden.columns[data_burden.isnull().mean() < 0.2]]\n",
    "\n",
    "data_burden.columns[data_burden.isnull().any()]\n",
    "\n",
    "for column in data_burden.columns:\n",
    "    data_burden[column].fillna(data_burden[column].mode()[0], inplace=True)\n",
    "\n",
    "median = data_burden.loc[data_burden['agecr'] < 200, 'agecr'].median()\n",
    "data_burden[\"agecr\"] = np.where(data_burden[\"agecr\"] > 200, median,data_burden['agecr'])\n",
    "\n",
    "# random forest\n",
    "from sklearn.ensemble import RandomForestRegressor\n",
    "\n",
    "X_feature = data_burden.drop('burden', axis = 1)\n",
    "y_feature = data_burden['burden']\n",
    "\n",
    "#m = sqrt(p)+1 features\n",
    "nfeatures = data_burden.shape[1] - 1\n",
    "feature_model = RandomForestRegressor(max_features = int(np.sqrt(nfeatures))+1, random_state = 1) #random_state ensure random bagging\n",
    "feature_model.fit(X_feature,y_feature)\n",
    "\n",
    "\n",
    "df_feature = pd.DataFrame(zip(X_feature.columns, feature_model.feature_importances_), columns = ['feature','importance'])\n",
    "df_feature = df_feature.sort_values(by=['importance'], ascending=False)\n",
    "\n",
    "df_feature[0:29]"
   ]
  },
  {
   "cell_type": "code",
   "execution_count": 3,
   "metadata": {},
   "outputs": [
    {
     "data": {
      "text/plain": [
       "Text(0, 0.5, 'Features')"
      ]
     },
     "execution_count": 3,
     "metadata": {},
     "output_type": "execute_result"
    },
    {
     "data": {
      "image/png": "[encoded data removed]",
      "text/plain": [
       "<Figure size 432x288 with 1 Axes>"
      ]
     },
     "metadata": {
      "needs_background": "light"
     },
     "output_type": "display_data"
    }
   ],
   "source": [
    "sns.barplot(data = df_feature[0:19], x = 'importance', y='feature', orient = 'h');\n",
    "plt.title('Feature Importance Plot Random Forest')\n",
    "plt.xlabel('Feature Importance Score')\n",
    "plt.ylabel('Features')"
   ]
  },
  {
   "cell_type": "code",
   "execution_count": 4,
   "metadata": {},
   "outputs": [],
   "source": [
    "#select the top few of the high important features while avoiding multi-colinearity\n",
    "data_burden = data_burden[['year', 'Q18', 'HOURS', 'adls', 'q22a', 'q22b', 'q22d', 'N3', 'q22c', 'iadls', 'q22g', 'q22f', 'q23d', 'banlives', 'q23c', 'q22e', 'burden']]"
   ]
  },
  {
   "cell_type": "code",
   "execution_count": 5,
   "metadata": {},
   "outputs": [
    {
     "data": {
      "text/plain": [
       "Q18\n",
       "24.0    486\n",
       "23.0    256\n",
       "3.0     255\n",
       "14.0    226\n",
       "32.0    213\n",
       "22.0    165\n",
       "19.0    138\n",
       "30.0    134\n",
       "8.0     130\n",
       "16.0    126\n",
       "18.0    126\n",
       "33.0    118\n",
       "13.0    101\n",
       "20.0     99\n",
       "43.0     98\n",
       "34.0     93\n",
       "5.0      85\n",
       "10.0     79\n",
       "21.0     73\n",
       "27.0     54\n",
       "11.0     46\n",
       "12.0     37\n",
       "7.0      33\n",
       "31.0     30\n",
       "39.0     23\n",
       "40.0     21\n",
       "15.0     20\n",
       "1.0      13\n",
       "44.0     12\n",
       "36.0     10\n",
       "26.0      8\n",
       "17.0      8\n",
       "37.0      8\n",
       "6.0       8\n",
       "9.0       4\n",
       "42.0      4\n",
       "28.0      3\n",
       "35.0      3\n",
       "29.0      2\n",
       "38.0      2\n",
       "2.0       1\n",
       "4.0       1\n",
       "Name: Q18, dtype: int64"
      ]
     },
     "execution_count": 5,
     "metadata": {},
     "output_type": "execute_result"
    }
   ],
   "source": [
    "#See the tally of data points of each of the illnesses\n",
    "data_burden.groupby(['Q18'])['Q18'].count().sort_values(ascending=False)"
   ]
  },
  {
   "cell_type": "code",
   "execution_count": 6,
   "metadata": {},
   "outputs": [
    {
     "data": {
      "text/html": [
       "<div>\n",
       "<style scoped>\n",
       "    .dataframe tbody tr th:only-of-type {\n",
       "        vertical-align: middle;\n",
       "    }\n",
       "\n",
       "    .dataframe tbody tr th {\n",
       "        vertical-align: top;\n",
       "    }\n",
       "\n",
       "    .dataframe thead th {\n",
       "        text-align: right;\n",
       "    }\n",
       "</style>\n",
       "<table border=\"1\" class=\"dataframe\">\n",
       "  <thead>\n",
       "    <tr style=\"text-align: right;\">\n",
       "      <th></th>\n",
       "      <th>year</th>\n",
       "      <th>Q18</th>\n",
       "      <th>HOURS</th>\n",
       "      <th>adls</th>\n",
       "      <th>q22a</th>\n",
       "      <th>q22b</th>\n",
       "      <th>q22d</th>\n",
       "      <th>N3</th>\n",
       "      <th>q22c</th>\n",
       "      <th>iadls</th>\n",
       "      <th>q22g</th>\n",
       "      <th>q22f</th>\n",
       "      <th>q23d</th>\n",
       "      <th>banlives</th>\n",
       "      <th>q23c</th>\n",
       "      <th>q22e</th>\n",
       "      <th>burden</th>\n",
       "    </tr>\n",
       "  </thead>\n",
       "  <tbody>\n",
       "    <tr>\n",
       "      <th>3</th>\n",
       "      <td>2014</td>\n",
       "      <td>Aging</td>\n",
       "      <td>28.0</td>\n",
       "      <td>0.0</td>\n",
       "      <td>2.0</td>\n",
       "      <td>2.0</td>\n",
       "      <td>2.0</td>\n",
       "      <td>2.0</td>\n",
       "      <td>2.0</td>\n",
       "      <td>4.0</td>\n",
       "      <td>2.0</td>\n",
       "      <td>2.0</td>\n",
       "      <td>1.0</td>\n",
       "      <td>1.0</td>\n",
       "      <td>1.0</td>\n",
       "      <td>2.0</td>\n",
       "      <td>3.0</td>\n",
       "    </tr>\n",
       "    <tr>\n",
       "      <th>5</th>\n",
       "      <td>2014</td>\n",
       "      <td>MobilityProblem</td>\n",
       "      <td>0.5</td>\n",
       "      <td>4.0</td>\n",
       "      <td>1.0</td>\n",
       "      <td>1.0</td>\n",
       "      <td>2.0</td>\n",
       "      <td>1.0</td>\n",
       "      <td>2.0</td>\n",
       "      <td>6.0</td>\n",
       "      <td>1.0</td>\n",
       "      <td>1.0</td>\n",
       "      <td>1.0</td>\n",
       "      <td>2.0</td>\n",
       "      <td>1.0</td>\n",
       "      <td>1.0</td>\n",
       "      <td>3.0</td>\n",
       "    </tr>\n",
       "    <tr>\n",
       "      <th>13</th>\n",
       "      <td>2014</td>\n",
       "      <td>Arthritis</td>\n",
       "      <td>77.0</td>\n",
       "      <td>0.0</td>\n",
       "      <td>2.0</td>\n",
       "      <td>2.0</td>\n",
       "      <td>2.0</td>\n",
       "      <td>1.0</td>\n",
       "      <td>2.0</td>\n",
       "      <td>5.0</td>\n",
       "      <td>1.0</td>\n",
       "      <td>2.0</td>\n",
       "      <td>2.0</td>\n",
       "      <td>2.0</td>\n",
       "      <td>1.0</td>\n",
       "      <td>2.0</td>\n",
       "      <td>4.0</td>\n",
       "    </tr>\n",
       "    <tr>\n",
       "      <th>24</th>\n",
       "      <td>2014</td>\n",
       "      <td>Cancer</td>\n",
       "      <td>12.0</td>\n",
       "      <td>0.0</td>\n",
       "      <td>2.0</td>\n",
       "      <td>2.0</td>\n",
       "      <td>2.0</td>\n",
       "      <td>2.0</td>\n",
       "      <td>2.0</td>\n",
       "      <td>6.0</td>\n",
       "      <td>2.0</td>\n",
       "      <td>2.0</td>\n",
       "      <td>1.0</td>\n",
       "      <td>2.0</td>\n",
       "      <td>1.0</td>\n",
       "      <td>2.0</td>\n",
       "      <td>2.0</td>\n",
       "    </tr>\n",
       "    <tr>\n",
       "      <th>36</th>\n",
       "      <td>2014</td>\n",
       "      <td>Diabetes</td>\n",
       "      <td>21.0</td>\n",
       "      <td>2.0</td>\n",
       "      <td>1.0</td>\n",
       "      <td>2.0</td>\n",
       "      <td>2.0</td>\n",
       "      <td>1.0</td>\n",
       "      <td>1.0</td>\n",
       "      <td>7.0</td>\n",
       "      <td>1.0</td>\n",
       "      <td>2.0</td>\n",
       "      <td>1.0</td>\n",
       "      <td>2.0</td>\n",
       "      <td>1.0</td>\n",
       "      <td>2.0</td>\n",
       "      <td>4.0</td>\n",
       "    </tr>\n",
       "  </tbody>\n",
       "</table>\n",
       "</div>"
      ],
      "text/plain": [
       "    year              Q18  HOURS  adls  q22a  q22b  q22d   N3  q22c  iadls  \\\n",
       "3   2014            Aging   28.0   0.0   2.0   2.0   2.0  2.0   2.0    4.0   \n",
       "5   2014  MobilityProblem    0.5   4.0   1.0   1.0   2.0  1.0   2.0    6.0   \n",
       "13  2014        Arthritis   77.0   0.0   2.0   2.0   2.0  1.0   2.0    5.0   \n",
       "24  2014           Cancer   12.0   0.0   2.0   2.0   2.0  2.0   2.0    6.0   \n",
       "36  2014         Diabetes   21.0   2.0   1.0   2.0   2.0  1.0   1.0    7.0   \n",
       "\n",
       "    q22g  q22f  q23d  banlives  q23c  q22e  burden  \n",
       "3    2.0   2.0   1.0       1.0   1.0   2.0     3.0  \n",
       "5    1.0   1.0   1.0       2.0   1.0   1.0     3.0  \n",
       "13   1.0   2.0   2.0       2.0   1.0   2.0     4.0  \n",
       "24   2.0   2.0   1.0       2.0   1.0   2.0     2.0  \n",
       "36   1.0   2.0   1.0       2.0   1.0   2.0     4.0  "
      ]
     },
     "execution_count": 6,
     "metadata": {},
     "output_type": "execute_result"
    }
   ],
   "source": [
    "#Select the only the ones with sufficient datapoints --- 80+ was arbitrarily chosen \n",
    "lst = [24.0, 3.0, 23.0, 32.0, 14.0, 22.0, 19.0, 30.0, 16.0, 8.0, 18.0, 5.0, 20.0, 13.0, 43.0]\n",
    "data_burden = data_burden.loc[data_burden['Q18'].isin(lst)]\n",
    "data_burden[\"Q18\"] = data_burden[\"Q18\"].astype(str)\n",
    "\n",
    "#re-code the numbers to actual illness\n",
    "data_burden[\"Q18\"] = data_burden[\"Q18\"].replace([\"3.0\",\"5.0\",\"8.0\",\"14.0\",\"16.0\",\"18.0\",\"19.0\",\"20.0\",\"22.0\",\"23.0\",\"24.0\",\"30.0\",\"32.0\"\n",
    "                           , \"13.0\", '43.0'], [\"Alzheimer\",\"Arthritis\", \"BackProblems\"\n",
    "                           ,\"Cancer\", \"Diabetes\", \"Falling\", \"HeartDisease\",\n",
    "                            \"LungDisease\", \"MentalIllness\", \"MobilityProblem\", \"Aging\",  \"Stroke\",\n",
    "                            \"Surgery\", \"BrokenBones\", \"Alzheimer\"])\n",
    "data_burden.head()"
   ]
  },
  {
   "cell_type": "code",
   "execution_count": 7,
   "metadata": {},
   "outputs": [],
   "source": [
    "#Change the data types to categorical\n",
    "lst2 = ['q22a', 'q22b', 'q22d', 'N3', 'q22c', 'q22g', 'q22f', 'q23d', 'banlives', 'q23c', 'q22e']\n",
    "data_burden[lst2] = data_burden[lst2].astype(object)"
   ]
  },
  {
   "cell_type": "code",
   "execution_count": 8,
   "metadata": {},
   "outputs": [],
   "source": [
    "#remove useless values such as \"don't know\", \"not answered\"\n",
    "\n",
    "values = [3.0, 4.0]\n",
    "data_burden = data_burden[\n",
    "    (data_burden.q22a.isin(values) == False) \\\n",
    "        & (data_burden.q22b.isin(values) == False) \\\n",
    "        & (data_burden.q22d.isin(values) == False)\n",
    "        & (data_burden.N3.isin(values) == False) \\\n",
    "        & (data_burden.q22c.isin(values) == False) \\\n",
    "        & (data_burden.q22g.isin(values) == False) \\\n",
    "        & (data_burden.q22f.isin(values) == False) \\\n",
    "        & (data_burden.q23d.isin(values) == False) \\\n",
    "        & (data_burden.q23c.isin(values) == False) \\\n",
    "        & (data_burden.q22e.isin(values) == False)                        \n",
    "                        ]\n",
    "\n",
    "data_burden = data_burden[data_burden['banlives'] != 3.0]"
   ]
  },
  {
   "cell_type": "code",
   "execution_count": 9,
   "metadata": {},
   "outputs": [
    {
     "data": {
      "text/html": [
       "<div>\n",
       "<style scoped>\n",
       "    .dataframe tbody tr th:only-of-type {\n",
       "        vertical-align: middle;\n",
       "    }\n",
       "\n",
       "    .dataframe tbody tr th {\n",
       "        vertical-align: top;\n",
       "    }\n",
       "\n",
       "    .dataframe thead th {\n",
       "        text-align: right;\n",
       "    }\n",
       "</style>\n",
       "<table border=\"1\" class=\"dataframe\">\n",
       "  <thead>\n",
       "    <tr style=\"text-align: right;\">\n",
       "      <th></th>\n",
       "      <th>year</th>\n",
       "      <th>Q18</th>\n",
       "      <th>HOURS</th>\n",
       "      <th>adls</th>\n",
       "      <th>q22a</th>\n",
       "      <th>q22b</th>\n",
       "      <th>q22d</th>\n",
       "      <th>N3</th>\n",
       "      <th>q22c</th>\n",
       "      <th>iadls</th>\n",
       "      <th>q22g</th>\n",
       "      <th>q22f</th>\n",
       "      <th>q23d</th>\n",
       "      <th>banlives</th>\n",
       "      <th>q23c</th>\n",
       "      <th>q22e</th>\n",
       "      <th>burden</th>\n",
       "    </tr>\n",
       "  </thead>\n",
       "  <tbody>\n",
       "    <tr>\n",
       "      <th>3</th>\n",
       "      <td>2014</td>\n",
       "      <td>Aging</td>\n",
       "      <td>28.0</td>\n",
       "      <td>0.0</td>\n",
       "      <td>2.0</td>\n",
       "      <td>2.0</td>\n",
       "      <td>2.0</td>\n",
       "      <td>2.0</td>\n",
       "      <td>2.0</td>\n",
       "      <td>4.0</td>\n",
       "      <td>2.0</td>\n",
       "      <td>2.0</td>\n",
       "      <td>1.0</td>\n",
       "      <td>1.0</td>\n",
       "      <td>1.0</td>\n",
       "      <td>2.0</td>\n",
       "      <td>3.0</td>\n",
       "    </tr>\n",
       "    <tr>\n",
       "      <th>5</th>\n",
       "      <td>2014</td>\n",
       "      <td>MobilityProblem</td>\n",
       "      <td>0.5</td>\n",
       "      <td>4.0</td>\n",
       "      <td>1.0</td>\n",
       "      <td>1.0</td>\n",
       "      <td>2.0</td>\n",
       "      <td>1.0</td>\n",
       "      <td>2.0</td>\n",
       "      <td>6.0</td>\n",
       "      <td>1.0</td>\n",
       "      <td>1.0</td>\n",
       "      <td>1.0</td>\n",
       "      <td>2.0</td>\n",
       "      <td>1.0</td>\n",
       "      <td>1.0</td>\n",
       "      <td>3.0</td>\n",
       "    </tr>\n",
       "    <tr>\n",
       "      <th>13</th>\n",
       "      <td>2014</td>\n",
       "      <td>Arthritis</td>\n",
       "      <td>77.0</td>\n",
       "      <td>0.0</td>\n",
       "      <td>2.0</td>\n",
       "      <td>2.0</td>\n",
       "      <td>2.0</td>\n",
       "      <td>1.0</td>\n",
       "      <td>2.0</td>\n",
       "      <td>5.0</td>\n",
       "      <td>1.0</td>\n",
       "      <td>2.0</td>\n",
       "      <td>2.0</td>\n",
       "      <td>2.0</td>\n",
       "      <td>1.0</td>\n",
       "      <td>2.0</td>\n",
       "      <td>4.0</td>\n",
       "    </tr>\n",
       "    <tr>\n",
       "      <th>24</th>\n",
       "      <td>2014</td>\n",
       "      <td>Cancer</td>\n",
       "      <td>12.0</td>\n",
       "      <td>0.0</td>\n",
       "      <td>2.0</td>\n",
       "      <td>2.0</td>\n",
       "      <td>2.0</td>\n",
       "      <td>2.0</td>\n",
       "      <td>2.0</td>\n",
       "      <td>6.0</td>\n",
       "      <td>2.0</td>\n",
       "      <td>2.0</td>\n",
       "      <td>1.0</td>\n",
       "      <td>2.0</td>\n",
       "      <td>1.0</td>\n",
       "      <td>2.0</td>\n",
       "      <td>2.0</td>\n",
       "    </tr>\n",
       "    <tr>\n",
       "      <th>36</th>\n",
       "      <td>2014</td>\n",
       "      <td>Diabetes</td>\n",
       "      <td>21.0</td>\n",
       "      <td>2.0</td>\n",
       "      <td>1.0</td>\n",
       "      <td>2.0</td>\n",
       "      <td>2.0</td>\n",
       "      <td>1.0</td>\n",
       "      <td>1.0</td>\n",
       "      <td>7.0</td>\n",
       "      <td>1.0</td>\n",
       "      <td>2.0</td>\n",
       "      <td>1.0</td>\n",
       "      <td>2.0</td>\n",
       "      <td>1.0</td>\n",
       "      <td>2.0</td>\n",
       "      <td>4.0</td>\n",
       "    </tr>\n",
       "  </tbody>\n",
       "</table>\n",
       "</div>"
      ],
      "text/plain": [
       "    year              Q18  HOURS  adls q22a q22b q22d   N3 q22c  iadls q22g  \\\n",
       "3   2014            Aging   28.0   0.0  2.0  2.0  2.0  2.0  2.0    4.0  2.0   \n",
       "5   2014  MobilityProblem    0.5   4.0  1.0  1.0  2.0  1.0  2.0    6.0  1.0   \n",
       "13  2014        Arthritis   77.0   0.0  2.0  2.0  2.0  1.0  2.0    5.0  1.0   \n",
       "24  2014           Cancer   12.0   0.0  2.0  2.0  2.0  2.0  2.0    6.0  2.0   \n",
       "36  2014         Diabetes   21.0   2.0  1.0  2.0  2.0  1.0  1.0    7.0  1.0   \n",
       "\n",
       "   q22f q23d banlives q23c q22e  burden  \n",
       "3   2.0  1.0      1.0  1.0  2.0     3.0  \n",
       "5   1.0  1.0      2.0  1.0  1.0     3.0  \n",
       "13  2.0  2.0      2.0  1.0  2.0     4.0  \n",
       "24  2.0  1.0      2.0  1.0  2.0     2.0  \n",
       "36  2.0  1.0      2.0  1.0  2.0     4.0  "
      ]
     },
     "execution_count": 9,
     "metadata": {},
     "output_type": "execute_result"
    }
   ],
   "source": [
    "data_burden.head()"
   ]
  },
  {
   "cell_type": "code",
   "execution_count": 10,
   "metadata": {},
   "outputs": [],
   "source": [
    "#re-coding survey numbers to actual response\n",
    "data_burden[\"q22a\"] = data_burden[\"q22a\"].astype(str)\n",
    "data_burden[\"q22a\"] = data_burden[\"q22a\"].replace([\"1.0\",\"2.0\"], [\"Yes\",\"No\"])\n",
    "data_burden[\"q22b\"] = data_burden[\"q22b\"].astype(str)\n",
    "data_burden[\"q22b\"] = data_burden[\"q22b\"].replace([\"1.0\",\"2.0\"], [\"Yes\",\"No\"])\n",
    "data_burden[\"q22d\"] = data_burden[\"q22d\"].astype(str)\n",
    "data_burden[\"q22d\"] = data_burden[\"q22d\"].replace([\"1.0\",\"2.0\"], [\"Yes\",\"No\"])\n",
    "data_burden[\"N3\"] = data_burden[\"N3\"].astype(str)\n",
    "data_burden[\"N3\"] = data_burden[\"N3\"].replace([\"1.0\",\"2.0\"], [\"Yes\",\"No\"])\n",
    "data_burden[\"q22c\"] = data_burden[\"q22c\"].astype(str)\n",
    "data_burden[\"q22c\"] = data_burden[\"q22c\"].replace([\"1.0\",\"2.0\"], [\"Yes\",\"No\"])\n",
    "data_burden[\"q22g\"] = data_burden[\"q22g\"].astype(str)\n",
    "data_burden[\"q22g\"] = data_burden[\"q22g\"].replace([\"1.0\",\"2.0\"], [\"Yes\",\"No\"])\n",
    "data_burden[\"q22f\"] = data_burden[\"q22f\"].astype(str)\n",
    "data_burden[\"q22f\"] = data_burden[\"q22f\"].replace([\"1.0\",\"2.0\"], [\"Yes\",\"No\"])\n",
    "data_burden[\"q23d\"] = data_burden[\"q23d\"].astype(str)\n",
    "data_burden[\"q23d\"] = data_burden[\"q23d\"].replace([\"1.0\",\"2.0\"], [\"Yes\",\"No\"])\n",
    "data_burden[\"q23c\"] = data_burden[\"q23c\"].astype(str)\n",
    "data_burden[\"q23c\"] = data_burden[\"q23c\"].replace([\"1.0\",\"2.0\"], [\"Yes\",\"No\"])\n",
    "data_burden[\"q22e\"] = data_burden[\"q22e\"].astype(str)\n",
    "data_burden[\"q22e\"] = data_burden[\"q22e\"].replace([\"1.0\",\"2.0\"], [\"Yes\",\"No\"])\n",
    "\n",
    "data_burden[\"banlives\"] = data_burden[\"banlives\"].astype(str)\n",
    "data_burden[\"banlives\"] = data_burden[\"banlives\"].replace([\"1.0\",\"2.0\"], [\"Yes\",\"No\"])"
   ]
  },
  {
   "cell_type": "code",
   "execution_count": 11,
   "metadata": {},
   "outputs": [],
   "source": [
    "#renaming the column names to laymens terms\n",
    "data_burden.columns = ['year', 'illness', 'hours', 'adls', 'help_with_bed', 'help_with_dressed', 'help_with_bathe', 'help_with_med', 'help_with_toilet', 'iadls', 'giving_medicine', 'help_with_feeding', 'preparing_meals', 'live_with_cr', 'help_housework', 'help_with_diapers', 'burden']\n",
    "data_burden = data_burden.reset_index(drop=True)"
   ]
  },
  {
   "cell_type": "markdown",
   "metadata": {},
   "source": [
    "## Plots"
   ]
  },
  {
   "cell_type": "code",
   "execution_count": 12,
   "metadata": {},
   "outputs": [
    {
     "data": {
      "text/plain": [
       "'\\ndf_1 = data_burden.groupby([\\'illness\\'])[\\'burden\\'].median()\\ndf_1 = df_1.to_frame()\\ndf_1.reset_index(inplace=True)\\ndf_1 = df_1.rename(columns = {\\'index\\':\\'illness\\'})\\ndf_1[\\'illness\\'] = df_1[\\'illness\\'].astype(object)\\n\\nfig = plt.figure(1, [20, 8])\\nfig.clf()\\n\\nax = fig.add_subplot(111)\\nax.set_xlim(-1,14)\\nplt.setp(ax.get_xticklabels(), fontsize=10, rotation=\\'vertical\\')\\nplt.bar(df_1[\\'illness\\'],df_1[\\'burden\\'])\\n\\nplt.axhline(y=(df_1[df_1[\\'illness\\'] == \\'Aging\\'][\\'burden\\'][0]),linewidth= 3, color=\\'r\\', linestyle= \\'dotted\\')\\nplt.title(label = \"burden\", fontsize=40)\\nplt.plot()\\nplt.show()\\n'"
      ]
     },
     "execution_count": 12,
     "metadata": {},
     "output_type": "execute_result"
    }
   ],
   "source": [
    "\"\"\"\n",
    "df_1 = data_burden.groupby(['illness'])['burden'].median()\n",
    "df_1 = df_1.to_frame()\n",
    "df_1.reset_index(inplace=True)\n",
    "df_1 = df_1.rename(columns = {'index':'illness'})\n",
    "df_1['illness'] = df_1['illness'].astype(object)\n",
    "\n",
    "fig = plt.figure(1, [20, 8])\n",
    "fig.clf()\n",
    "\n",
    "ax = fig.add_subplot(111)\n",
    "ax.set_xlim(-1,14)\n",
    "plt.setp(ax.get_xticklabels(), fontsize=10, rotation='vertical')\n",
    "plt.bar(df_1['illness'],df_1['burden'])\n",
    "\n",
    "plt.axhline(y=(df_1[df_1['illness'] == 'Aging']['burden'][0]),linewidth= 3, color='r', linestyle= 'dotted')\n",
    "plt.title(label = \"burden\", fontsize=40)\n",
    "plt.plot()\n",
    "plt.show()\n",
    "\"\"\""
   ]
  },
  {
   "cell_type": "code",
   "execution_count": 13,
   "metadata": {},
   "outputs": [
    {
     "data": {
      "text/plain": [
       "'\\nsns.catplot(x=\"burden\", y=\"help_with_diapers\", kind=\"box\", data=data_2014)\\nsns.catplot(x=\"help_with_diapers\", y=\"burden\", kind=\"box\", data=data_2014)\\n'"
      ]
     },
     "execution_count": 13,
     "metadata": {},
     "output_type": "execute_result"
    }
   ],
   "source": [
    "\"\"\"\n",
    "sns.catplot(x=\"burden\", y=\"help_with_diapers\", kind=\"box\", data=data_2014)\n",
    "sns.catplot(x=\"help_with_diapers\", y=\"burden\", kind=\"box\", data=data_2014)\n",
    "\"\"\""
   ]
  },
  {
   "cell_type": "code",
   "execution_count": 14,
   "metadata": {},
   "outputs": [
    {
     "data": {
      "text/html": [
       "<div>\n",
       "<style scoped>\n",
       "    .dataframe tbody tr th:only-of-type {\n",
       "        vertical-align: middle;\n",
       "    }\n",
       "\n",
       "    .dataframe tbody tr th {\n",
       "        vertical-align: top;\n",
       "    }\n",
       "\n",
       "    .dataframe thead th {\n",
       "        text-align: right;\n",
       "    }\n",
       "</style>\n",
       "<table border=\"1\" class=\"dataframe\">\n",
       "  <thead>\n",
       "    <tr style=\"text-align: right;\">\n",
       "      <th></th>\n",
       "      <th>year</th>\n",
       "      <th>illness</th>\n",
       "      <th>hours</th>\n",
       "      <th>adls</th>\n",
       "      <th>help_with_bed</th>\n",
       "      <th>help_with_dressed</th>\n",
       "      <th>help_with_bathe</th>\n",
       "      <th>help_with_med</th>\n",
       "      <th>help_with_toilet</th>\n",
       "      <th>iadls</th>\n",
       "      <th>giving_medicine</th>\n",
       "      <th>help_with_feeding</th>\n",
       "      <th>preparing_meals</th>\n",
       "      <th>live_with_cr</th>\n",
       "      <th>help_housework</th>\n",
       "      <th>help_with_diapers</th>\n",
       "      <th>burden</th>\n",
       "    </tr>\n",
       "  </thead>\n",
       "  <tbody>\n",
       "    <tr>\n",
       "      <th>0</th>\n",
       "      <td>2014</td>\n",
       "      <td>Aging</td>\n",
       "      <td>28.0</td>\n",
       "      <td>0.0</td>\n",
       "      <td>No</td>\n",
       "      <td>No</td>\n",
       "      <td>No</td>\n",
       "      <td>No</td>\n",
       "      <td>No</td>\n",
       "      <td>4.0</td>\n",
       "      <td>No</td>\n",
       "      <td>No</td>\n",
       "      <td>Yes</td>\n",
       "      <td>Yes</td>\n",
       "      <td>Yes</td>\n",
       "      <td>No</td>\n",
       "      <td>3.0</td>\n",
       "    </tr>\n",
       "    <tr>\n",
       "      <th>1</th>\n",
       "      <td>2014</td>\n",
       "      <td>MobilityProblem</td>\n",
       "      <td>0.5</td>\n",
       "      <td>4.0</td>\n",
       "      <td>Yes</td>\n",
       "      <td>Yes</td>\n",
       "      <td>No</td>\n",
       "      <td>Yes</td>\n",
       "      <td>No</td>\n",
       "      <td>6.0</td>\n",
       "      <td>Yes</td>\n",
       "      <td>Yes</td>\n",
       "      <td>Yes</td>\n",
       "      <td>No</td>\n",
       "      <td>Yes</td>\n",
       "      <td>Yes</td>\n",
       "      <td>3.0</td>\n",
       "    </tr>\n",
       "    <tr>\n",
       "      <th>2</th>\n",
       "      <td>2014</td>\n",
       "      <td>Arthritis</td>\n",
       "      <td>77.0</td>\n",
       "      <td>0.0</td>\n",
       "      <td>No</td>\n",
       "      <td>No</td>\n",
       "      <td>No</td>\n",
       "      <td>Yes</td>\n",
       "      <td>No</td>\n",
       "      <td>5.0</td>\n",
       "      <td>Yes</td>\n",
       "      <td>No</td>\n",
       "      <td>No</td>\n",
       "      <td>No</td>\n",
       "      <td>Yes</td>\n",
       "      <td>No</td>\n",
       "      <td>4.0</td>\n",
       "    </tr>\n",
       "    <tr>\n",
       "      <th>3</th>\n",
       "      <td>2014</td>\n",
       "      <td>Cancer</td>\n",
       "      <td>12.0</td>\n",
       "      <td>0.0</td>\n",
       "      <td>No</td>\n",
       "      <td>No</td>\n",
       "      <td>No</td>\n",
       "      <td>No</td>\n",
       "      <td>No</td>\n",
       "      <td>6.0</td>\n",
       "      <td>No</td>\n",
       "      <td>No</td>\n",
       "      <td>Yes</td>\n",
       "      <td>No</td>\n",
       "      <td>Yes</td>\n",
       "      <td>No</td>\n",
       "      <td>2.0</td>\n",
       "    </tr>\n",
       "    <tr>\n",
       "      <th>4</th>\n",
       "      <td>2014</td>\n",
       "      <td>Diabetes</td>\n",
       "      <td>21.0</td>\n",
       "      <td>2.0</td>\n",
       "      <td>Yes</td>\n",
       "      <td>No</td>\n",
       "      <td>No</td>\n",
       "      <td>Yes</td>\n",
       "      <td>Yes</td>\n",
       "      <td>7.0</td>\n",
       "      <td>Yes</td>\n",
       "      <td>No</td>\n",
       "      <td>Yes</td>\n",
       "      <td>No</td>\n",
       "      <td>Yes</td>\n",
       "      <td>No</td>\n",
       "      <td>4.0</td>\n",
       "    </tr>\n",
       "  </tbody>\n",
       "</table>\n",
       "</div>"
      ],
      "text/plain": [
       "   year          illness  hours  adls help_with_bed help_with_dressed  \\\n",
       "0  2014            Aging   28.0   0.0            No                No   \n",
       "1  2014  MobilityProblem    0.5   4.0           Yes               Yes   \n",
       "2  2014        Arthritis   77.0   0.0            No                No   \n",
       "3  2014           Cancer   12.0   0.0            No                No   \n",
       "4  2014         Diabetes   21.0   2.0           Yes                No   \n",
       "\n",
       "  help_with_bathe help_with_med help_with_toilet  iadls giving_medicine  \\\n",
       "0              No            No               No    4.0              No   \n",
       "1              No           Yes               No    6.0             Yes   \n",
       "2              No           Yes               No    5.0             Yes   \n",
       "3              No            No               No    6.0              No   \n",
       "4              No           Yes              Yes    7.0             Yes   \n",
       "\n",
       "  help_with_feeding preparing_meals live_with_cr help_housework  \\\n",
       "0                No             Yes          Yes            Yes   \n",
       "1               Yes             Yes           No            Yes   \n",
       "2                No              No           No            Yes   \n",
       "3                No             Yes           No            Yes   \n",
       "4                No             Yes           No            Yes   \n",
       "\n",
       "  help_with_diapers  burden  \n",
       "0                No     3.0  \n",
       "1               Yes     3.0  \n",
       "2                No     4.0  \n",
       "3                No     2.0  \n",
       "4                No     4.0  "
      ]
     },
     "execution_count": 14,
     "metadata": {},
     "output_type": "execute_result"
    }
   ],
   "source": [
    "data_burden.head()"
   ]
  },
  {
   "cell_type": "code",
   "execution_count": 15,
   "metadata": {},
   "outputs": [
    {
     "data": {
      "text/plain": [
       "'\\n#sns.catplot(x=\"burden\", y=\"hours\", kind=\"box\", data=data_burden)\\nsns.catplot(x=\"burden\", y=\"hours\", kind=\"violin\", data=data_burden)\\n\\n#sns.catplot(x=\"burden\", y=\"iadls\", kind=\"box\", data=data_burden)\\nsns.catplot(x=\"burden\", y=\"iadls\", kind=\"violin\", data=data_burden)\\n\\n#sns.catplot(x=\"burden\", y=\"adls\", kind=\"box\", data=data_burden)\\nsns.catplot(x=\"burden\", y=\"adls\", kind=\"violin\", data=data_burden)\\n\\n#sns.catplot(x=\"help_with_bed\", y=\"burden\", kind=\"box\", data=data_burden)\\nsns.catplot(x=\"help_with_bed\", y=\"burden\", kind=\"violin\", data=data_burden, order=[\"Yes\", \"No\"])\\n\\n#sns.catplot(x=\"help_with_dressed\", y=\"burden\", kind=\"box\", data=data_burden)\\nsns.catplot(x=\"help_with_dressed\", y=\"burden\", kind=\"violin\", data=data_burden, order=[\"Yes\", \"No\"])\\n\\n#sns.catplot(x=\"help_with_bathe\", y=\"burden\", kind=\"box\", data=data_burden)\\nsns.catplot(x=\"help_with_bathe\", y=\"burden\", kind=\"violin\", data=data_burden, order=[\"Yes\", \"No\"])\\n\\n#sns.catplot(x=\"help_with_med\", y=\"burden\", kind=\"box\", data=data_burden)\\nsns.catplot(x=\"help_with_med\", y=\"burden\", kind=\"violin\", data=data_burden, order=[\"Yes\", \"No\"])\\n\\n#sns.catplot(x=\"help_with_toilet\", y=\"burden\", kind=\"box\", data=data_burden)\\nsns.catplot(x=\"help_with_toilet\", y=\"burden\", kind=\"violin\", data=data_burden, order=[\"Yes\", \"No\"])\\n\\n#sns.catplot(x=\"giving_medicine\", y=\"burden\", kind=\"box\", data=data_burden)\\nsns.catplot(x=\"giving_medicine\", y=\"burden\", kind=\"violin\", data=data_burden, order=[\"Yes\", \"No\"])\\n#sns.boxplot(x=\\'species\\', y=\\'sepal_length\\', data=df, order=[\"versicolor\", \"virginica\", \"setosa\"])\\n\\n#sns.catplot(x=\"help_with_feeding\", y=\"burden\", kind=\"box\", data=data_burden)\\nsns.catplot(x=\"help_with_feeding\", y=\"burden\", kind=\"violin\", data=data_burden, order=[\"Yes\", \"No\"])\\n\\n#sns.catplot(x=\"preparing_meals\", y=\"burden\", kind=\"box\", data=data_burden)\\nsns.catplot(x=\"preparing_meals\", y=\"burden\", kind=\"violin\", data=data_burden, order=[\"Yes\", \"No\"])\\n\\n#sns.catplot(x=\"live_with_cr\", y=\"burden\", kind=\"box\", data=data_burden)\\nsns.catplot(x=\"live_with_cr\", y=\"burden\", kind=\"violin\", data=data_burden, order=[\"Yes\", \"No\"])\\n\\n#sns.catplot(x=\"help_housework\", y=\"burden\", kind=\"box\", data=data_burden)\\nsns.catplot(x=\"help_housework\", y=\"burden\", kind=\"violin\", data=data_burden, order=[\"Yes\", \"No\"])\\n\\n#sns.catplot(x=\"help_with_diapers\", y=\"burden\", kind=\"box\", data=data_burden)\\nsns.catplot(x=\"help_with_diapers\", y=\"burden\", kind=\"violin\", data=data_burden, order=[\"Yes\", \"No\"])\\n\\n\\n\\nsns.catplot(x=\"burden\", y=\"illness\",\\n            kind=\"violin\", data=data_burden)\\n'"
      ]
     },
     "execution_count": 15,
     "metadata": {},
     "output_type": "execute_result"
    }
   ],
   "source": [
    "\"\"\"\n",
    "#sns.catplot(x=\"burden\", y=\"hours\", kind=\"box\", data=data_burden)\n",
    "sns.catplot(x=\"burden\", y=\"hours\", kind=\"violin\", data=data_burden)\n",
    "\n",
    "#sns.catplot(x=\"burden\", y=\"iadls\", kind=\"box\", data=data_burden)\n",
    "sns.catplot(x=\"burden\", y=\"iadls\", kind=\"violin\", data=data_burden)\n",
    "\n",
    "#sns.catplot(x=\"burden\", y=\"adls\", kind=\"box\", data=data_burden)\n",
    "sns.catplot(x=\"burden\", y=\"adls\", kind=\"violin\", data=data_burden)\n",
    "\n",
    "#sns.catplot(x=\"help_with_bed\", y=\"burden\", kind=\"box\", data=data_burden)\n",
    "sns.catplot(x=\"help_with_bed\", y=\"burden\", kind=\"violin\", data=data_burden, order=[\"Yes\", \"No\"])\n",
    "\n",
    "#sns.catplot(x=\"help_with_dressed\", y=\"burden\", kind=\"box\", data=data_burden)\n",
    "sns.catplot(x=\"help_with_dressed\", y=\"burden\", kind=\"violin\", data=data_burden, order=[\"Yes\", \"No\"])\n",
    "\n",
    "#sns.catplot(x=\"help_with_bathe\", y=\"burden\", kind=\"box\", data=data_burden)\n",
    "sns.catplot(x=\"help_with_bathe\", y=\"burden\", kind=\"violin\", data=data_burden, order=[\"Yes\", \"No\"])\n",
    "\n",
    "#sns.catplot(x=\"help_with_med\", y=\"burden\", kind=\"box\", data=data_burden)\n",
    "sns.catplot(x=\"help_with_med\", y=\"burden\", kind=\"violin\", data=data_burden, order=[\"Yes\", \"No\"])\n",
    "\n",
    "#sns.catplot(x=\"help_with_toilet\", y=\"burden\", kind=\"box\", data=data_burden)\n",
    "sns.catplot(x=\"help_with_toilet\", y=\"burden\", kind=\"violin\", data=data_burden, order=[\"Yes\", \"No\"])\n",
    "\n",
    "#sns.catplot(x=\"giving_medicine\", y=\"burden\", kind=\"box\", data=data_burden)\n",
    "sns.catplot(x=\"giving_medicine\", y=\"burden\", kind=\"violin\", data=data_burden, order=[\"Yes\", \"No\"])\n",
    "#sns.boxplot(x='species', y='sepal_length', data=df, order=[\"versicolor\", \"virginica\", \"setosa\"])\n",
    "\n",
    "#sns.catplot(x=\"help_with_feeding\", y=\"burden\", kind=\"box\", data=data_burden)\n",
    "sns.catplot(x=\"help_with_feeding\", y=\"burden\", kind=\"violin\", data=data_burden, order=[\"Yes\", \"No\"])\n",
    "\n",
    "#sns.catplot(x=\"preparing_meals\", y=\"burden\", kind=\"box\", data=data_burden)\n",
    "sns.catplot(x=\"preparing_meals\", y=\"burden\", kind=\"violin\", data=data_burden, order=[\"Yes\", \"No\"])\n",
    "\n",
    "#sns.catplot(x=\"live_with_cr\", y=\"burden\", kind=\"box\", data=data_burden)\n",
    "sns.catplot(x=\"live_with_cr\", y=\"burden\", kind=\"violin\", data=data_burden, order=[\"Yes\", \"No\"])\n",
    "\n",
    "#sns.catplot(x=\"help_housework\", y=\"burden\", kind=\"box\", data=data_burden)\n",
    "sns.catplot(x=\"help_housework\", y=\"burden\", kind=\"violin\", data=data_burden, order=[\"Yes\", \"No\"])\n",
    "\n",
    "#sns.catplot(x=\"help_with_diapers\", y=\"burden\", kind=\"box\", data=data_burden)\n",
    "sns.catplot(x=\"help_with_diapers\", y=\"burden\", kind=\"violin\", data=data_burden, order=[\"Yes\", \"No\"])\n",
    "\n",
    "\n",
    "\n",
    "sns.catplot(x=\"burden\", y=\"illness\",\n",
    "            kind=\"violin\", data=data_burden)\n",
    "\"\"\""
   ]
  },
  {
   "cell_type": "markdown",
   "metadata": {},
   "source": [
    "### Narrow Down Features"
   ]
  },
  {
   "cell_type": "code",
   "execution_count": 16,
   "metadata": {},
   "outputs": [],
   "source": [
    "#Dropping features with small correlations\n",
    "data_burden2 = data_burden.drop(['adls', 'help_housework', 'live_with_cr', 'preparing_meals', 'giving_medicine', 'help_with_med'], axis=1)"
   ]
  },
  {
   "cell_type": "code",
   "execution_count": 17,
   "metadata": {},
   "outputs": [],
   "source": [
    "#Splitting the continuous variables and the categorical variables \n",
    "numerics = ['int16', 'int32', 'int64', 'float16', 'float32', 'float64']\n",
    "\n",
    "df_cont2 = data_burden2.select_dtypes(include=numerics)\n",
    "df_cat2 = data_burden2.select_dtypes(include = 'object')\n",
    "\n",
    "#dummy coding the categorical variables\n",
    "df_cat_dc2 = pd.get_dummies(df_cat2)\n",
    "df_reg2 = pd.concat([df_cont2, df_cat_dc2], axis = 1)"
   ]
  },
  {
   "cell_type": "code",
   "execution_count": 18,
   "metadata": {},
   "outputs": [],
   "source": [
    "#Helper function for 10-CV\n",
    "# 10-Fold Cross Validation\n",
    "def cross_validation (df, func):\n",
    "    from sklearn.model_selection import KFold\n",
    "    kf = KFold(n_splits = 10, shuffle = True, random_state = 10)\n",
    "    kf_rmse = []\n",
    "    \n",
    "    for train, test in kf.split(df):\n",
    "        X_train = df.iloc[train].loc[:, df.columns != 'burden']\n",
    "        X_train = X_train.squeeze()\n",
    "        X_test = df.iloc[test].loc[:, df.columns != 'burden']\n",
    "        y_train = df.iloc[train].loc[:,'burden']\n",
    "        y_test = df.iloc[test].loc[:,'burden']\n",
    "        \n",
    "        reg = func.fit(X_train, y_train)\n",
    "        y_hat = reg.predict(X_test)\n",
    "        \n",
    "        from sklearn.metrics import mean_squared_error\n",
    "        kf_rmse.append(mean_squared_error(y_test, y_hat, squared=False))\n",
    "        \n",
    "    kf_RMSE = (1/10) * np.sum(kf_rmse)\n",
    "        \n",
    "    return (kf_RMSE)"
   ]
  },
  {
   "cell_type": "code",
   "execution_count": 19,
   "metadata": {},
   "outputs": [],
   "source": [
    "#Use 2014 data as train and 2020 data as test\n",
    "X_train2 = df_reg2[df_reg2['year'] == 2014]\n",
    "y_train2 = X_train2['burden']\n",
    "X_train2 = X_train2.drop('burden', axis = 1)\n",
    "df_train2 = pd.concat([X_train2, y_train2], axis=1, join='outer')\n",
    "\n",
    "X_test2 = df_reg2[df_reg2['year'] == 2019]\n",
    "y_test2 = X_test2['burden']\n",
    "X_test2 = X_test2.drop('burden', axis = 1)"
   ]
  },
  {
   "cell_type": "markdown",
   "metadata": {},
   "source": [
    "## Linear Regression with Narrowed Down Features"
   ]
  },
  {
   "cell_type": "code",
   "execution_count": 20,
   "metadata": {},
   "outputs": [],
   "source": [
    "from sklearn.model_selection import cross_val_score\n",
    "from sklearn.metrics import mean_squared_error"
   ]
  },
  {
   "cell_type": "code",
   "execution_count": 21,
   "metadata": {},
   "outputs": [
    {
     "name": "stdout",
     "output_type": "stream",
     "text": [
      "test RMSE =  0.617294622740634\n",
      "10 CV RMSE =  0.5908861018712251\n",
      "score =  0.8358856466839193\n"
     ]
    }
   ],
   "source": [
    "from sklearn.linear_model import LinearRegression\n",
    "model1 = LinearRegression()\n",
    "\n",
    "model1.fit(X_train2, y_train2)\n",
    "\n",
    "y_hat11 = model1.predict(X_test2)\n",
    "\n",
    "score11 = np.mean(cross_val_score(estimator = model1, X = X_train2, y = y_train2, cv = 10))\n",
    "model11_train_rmse = mean_squared_error(y_test2, y_hat11, squared=False)\n",
    "model11_cv_rmse = cross_validation(df_reg2, model1)\n",
    "\n",
    "print('test RMSE = ', model11_train_rmse)\n",
    "print('10 CV RMSE = ', model11_cv_rmse)\n",
    "print('score = ', score11)"
   ]
  },
  {
   "cell_type": "code",
   "execution_count": 22,
   "metadata": {},
   "outputs": [
    {
     "data": {
      "text/plain": [
       "Text(0, 0.5, 'Predicted Value')"
      ]
     },
     "execution_count": 22,
     "metadata": {},
     "output_type": "execute_result"
    },
    {
     "data": {
      "image/png": "[encoded data removed]",
      "text/plain": [
       "<Figure size 576x576 with 1 Axes>"
      ]
     },
     "metadata": {
      "needs_background": "light"
     },
     "output_type": "display_data"
    }
   ],
   "source": [
    "plt.figure(figsize = (8,8))\n",
    "plt.scatter(x = y_test2, y = y_hat11, s = 8, label = \"Test\")\n",
    "plt.scatter(x = y_train2, y = model1.predict(X_train2), s = 8, label = \"Train\")\n",
    "plt.scatter(x = df_reg2['burden'], y = df_reg2['burden'], s = 8, label = \"True\")\n",
    "plt.plot([0,6], [0,6], color = \"r\")\n",
    "plt.legend(loc=0)\n",
    "plt.title(\"Predicted Value vs True Value for Linear Regression\")\n",
    "plt.xlabel(\"True Value\")\n",
    "plt.ylabel(\"Predicted Value\")"
   ]
  },
  {
   "cell_type": "markdown",
   "metadata": {},
   "source": [
    "### Random Forest with Narrowed Down Features"
   ]
  },
  {
   "cell_type": "code",
   "execution_count": 23,
   "metadata": {},
   "outputs": [
    {
     "name": "stdout",
     "output_type": "stream",
     "text": [
      "Fitting 10 folds for each of 90 candidates, totalling 900 fits\n"
     ]
    }
   ],
   "source": [
    "randomForest = RandomForestRegressor(random_state = 0)\n",
    "grid_para_forest = {'n_estimators': [100,500,1000,2500,5000],\n",
    "'max_depth': [10,15,20,30,40,50],\n",
    "'max_features' : [5,7,15]}\n",
    "from sklearn.model_selection import GridSearchCV\n",
    "\n",
    "grid_search_forest = GridSearchCV(randomForest, grid_para_forest, cv=10, n_jobs = 5, verbose=1)\n",
    "grid_search_forest.fit(X_train2, y_train2)\n",
    "\n",
    "model2_2 = grid_search_forest.best_estimator_\n",
    "yhat_2_2 = model2_2.predict(X_test2)"
   ]
  },
  {
   "cell_type": "code",
   "execution_count": null,
   "metadata": {},
   "outputs": [],
   "source": [
    "model2_2_train_rmse = mean_squared_error(y_test2, yhat_2_2, squared=False)\n",
    "model2_2_cv_rmse = cross_validation(df_reg2, model2_2)\n",
    "score2_2 = np.mean(cross_val_score(estimator = model2_2, X = X_train2, y = y_train2, cv = 10))\n",
    "\n",
    "print('test RMSE = ', model2_2_train_rmse)\n",
    "print('10 CV RMSE = ', model2_2_cv_rmse)\n",
    "print('score = ', score2_2)"
   ]
  },
  {
   "cell_type": "code",
   "execution_count": null,
   "metadata": {},
   "outputs": [],
   "source": [
    "plt.figure(figsize = (8,8))\n",
    "plt.scatter(x = y_test2, y = yhat_2_2, s = 8, label = \"Test\")\n",
    "plt.scatter(x = y_train2, y = model2_2.predict(X_train2), s = 8, label = \"Train\")\n",
    "plt.scatter(x = df_reg2['burden'], y = df_reg2['burden'], s = 8, label = \"True\")\n",
    "plt.plot([0,6], [0,6], color = \"r\")\n",
    "plt.legend(loc=0)\n",
    "plt.title(\"Predicted Value vs True Value for Random Forest\")\n",
    "plt.xlabel(\"True Value\")\n",
    "plt.ylabel(\"Predicted Value\")"
   ]
  },
  {
   "cell_type": "code",
   "execution_count": null,
   "metadata": {},
   "outputs": [],
   "source": [
    "sorted_importance = sorted(zip(df_reg2.drop('burden', axis = 1).columns, model2_2.feature_importances_), key=lambda t:t[1], reverse = True)\n",
    "a, b = zip(*sorted_importance)\n",
    "plt.figure(figsize = (10,10))\n",
    "df = pd.DataFrame({'feature_name':a, 'importance_score':b})\n",
    "sns.barplot(data = df, x = 'importance_score', y='feature_name', orient = 'h');\n",
    "plt.title('Feature Importance Plot Random Forest')\n",
    "plt.xlabel('Feature Importance Score')\n",
    "plt.ylabel('Features')"
   ]
  },
  {
   "cell_type": "markdown",
   "metadata": {},
   "source": [
    "#### Run the Random Forest Again with Important Features"
   ]
  },
  {
   "cell_type": "code",
   "execution_count": null,
   "metadata": {},
   "outputs": [],
   "source": [
    "imp_cols = df[df['importance_score'] > 0.004]['feature_name'].tolist()"
   ]
  },
  {
   "cell_type": "code",
   "execution_count": null,
   "metadata": {},
   "outputs": [],
   "source": [
    "grid_search_forest.fit(X_train2[imp_cols], y_train2)\n",
    "\n",
    "model22_2 = grid_search_forest.best_estimator_\n",
    "yhat_22_2 = model22_2.predict(X_test2[imp_cols])"
   ]
  },
  {
   "cell_type": "code",
   "execution_count": null,
   "metadata": {},
   "outputs": [],
   "source": [
    "model22_2_train_rmse = mean_squared_error(y_test2, yhat_22_2, squared=False)\n",
    "model22_2_cv_rmse = cross_validation(df_reg2, model22_2)\n",
    "score22_2 = np.mean(cross_val_score(estimator = model22_2, X = X_train2, y = y_train2, cv = 10))\n",
    "\n",
    "print('test RMSE = ', model22_2_train_rmse)\n",
    "print('10 CV RMSE = ', model22_2_cv_rmse)\n",
    "print('score = ', score22_2)"
   ]
  },
  {
   "cell_type": "code",
   "execution_count": null,
   "metadata": {},
   "outputs": [],
   "source": [
    "plt.figure(figsize = (8,8))\n",
    "plt.scatter(x = y_test2, y = yhat_22_2, s = 8, label = \"Test\")\n",
    "plt.scatter(x = y_train2, y = model22_2.predict(X_train2), s = 8, label = \"Train\")\n",
    "plt.scatter(x = df_reg2['burden'], y = df_reg2['burden'], s = 8, label = \"True\")\n",
    "plt.plot([0,6], [0,6], color = \"r\")\n",
    "plt.legend(loc=0)\n",
    "plt.title(\"Predicted Value vs True Value for Random Forest 2\")\n",
    "plt.xlabel(\"True Value\")\n",
    "plt.ylabel(\"Predicted Value\")"
   ]
  },
  {
   "cell_type": "markdown",
   "metadata": {},
   "source": [
    "## Gradient Boost"
   ]
  },
  {
   "cell_type": "code",
   "execution_count": null,
   "metadata": {},
   "outputs": [],
   "source": [
    "from sklearn.ensemble import GradientBoostingRegressor\n",
    "gbm = GradientBoostingRegressor(random_state = 0)"
   ]
  },
  {
   "cell_type": "code",
   "execution_count": null,
   "metadata": {},
   "outputs": [],
   "source": [
    "grid_para_gb = {'n_estimators': [100,500,1000,2500,5000],\n",
    "                   'learning_rate':[0.01,0.05,0.1],\n",
    "                   'max_depth':range(1,6),\n",
    "                   'max_features' : [5,7,15]}"
   ]
  },
  {
   "cell_type": "code",
   "execution_count": null,
   "metadata": {},
   "outputs": [],
   "source": [
    "from sklearn.model_selection import train_test_split, GridSearchCV\n",
    "grid_search_gb = GridSearchCV(gbm, grid_para_gb, cv=5, n_jobs = 5, verbose = 1)\n",
    "grid_search_gb.fit(X_train2, y_train2)\n"
   ]
  },
  {
   "cell_type": "code",
   "execution_count": null,
   "metadata": {},
   "outputs": [],
   "source": [
    "model3 = grid_search_gb.best_estimator_\n",
    "yhat_3 = model3.predict(X_test2)"
   ]
  },
  {
   "cell_type": "code",
   "execution_count": null,
   "metadata": {},
   "outputs": [],
   "source": [
    "model3_train_rmse = mean_squared_error(y_test2, yhat_3, squared=False)\n",
    "model3_cv_rmse = cross_validation(df_reg2, model3)\n",
    "score3 = np.mean(cross_val_score(estimator = model3, X = X_train2, y = y_train2, cv = 10))\n",
    "\n",
    "print('train RMSE = ', model3_train_rmse)\n",
    "print('10 CV RMSE = ', model3_cv_rmse)\n",
    "print('score = ', score3)"
   ]
  },
  {
   "cell_type": "code",
   "execution_count": null,
   "metadata": {},
   "outputs": [],
   "source": [
    "plt.figure(figsize=(8,8))\n",
    "plt.scatter(x = y_test2, y = yhat_3, s = 8, label = \"Test\")\n",
    "plt.scatter(x = y_train2, y = model3.predict(X_train2), s = 8, label = \"Train\")\n",
    "plt.scatter(x = df_reg2['burden'], y = df_reg2['burden'], s = 8, label = \"True\")\n",
    "plt.plot([-2,8],[-2,8], color = \"r\")\n",
    "plt.legend(loc = 0)\n",
    "plt.title(\"Predicted Value vs True Value for Gradient Boost\")\n",
    "plt.xlabel(\"True Value\")\n",
    "plt.ylabel(\"Predicted Value\")"
   ]
  },
  {
   "cell_type": "code",
   "execution_count": null,
   "metadata": {},
   "outputs": [],
   "source": [
    "sorted_importance = sorted(zip(df_reg2.columns, model3.feature_importances_), key=lambda t:t[1], reverse=True)\n",
    "a, b = zip(*sorted_importance)\n",
    "plt.figure(figsize = (10,10))\n",
    "df = pd.DataFrame({'feature_name':a, 'importance_score':b})\n",
    "sns.barplot(data = df, x = 'importance_score', y= 'feature_name', orient = 'h');\n",
    "plt.title('Feature Importance Plot Gradient Boosting')\n",
    "plt.xlabel('Feature Importance Score')\n",
    "plt.ylabel('Features')"
   ]
  },
  {
   "cell_type": "code",
   "execution_count": null,
   "metadata": {},
   "outputs": [],
   "source": [
    "imp_cols = df[df['importance_score'] > 0.004]['feature_name'].tolist()"
   ]
  },
  {
   "cell_type": "code",
   "execution_count": null,
   "metadata": {},
   "outputs": [],
   "source": [
    "grid_search_gb.fit(X_train2[imp_cols], y_train2)\n",
    "\n",
    "model33 = grid_search_gb.best_estimator_\n",
    "yhat_33 = model33.predict(X_test2[imp_cols])"
   ]
  },
  {
   "cell_type": "code",
   "execution_count": null,
   "metadata": {},
   "outputs": [],
   "source": [
    "model33_train_rmse = mean_squared_error(y_test2, yhat_33, squared=False)\n",
    "model33_cv_rmse = cross_validation(df_reg2, model33)\n",
    "score33 = np.mean(cross_val_score(estimator = model33, X = X_train2, y = y_train2, cv = 10))\n",
    "\n",
    "print('train RMSE = ', model33_train_rmse)\n",
    "print('10 CV RMSE = ', model33_cv_rmse)\n",
    "print('score = ', score33)"
   ]
  },
  {
   "cell_type": "code",
   "execution_count": null,
   "metadata": {},
   "outputs": [],
   "source": [
    "plt.figure(figsize=(8,8))\n",
    "plt.scatter(x = y_test2, y = yhat_33, s = 8, label = \"Test\")\n",
    "plt.scatter(x = y_train2, y = model33.predict(X_train2), s = 8, label = \"Train\")\n",
    "plt.scatter(x = df_reg2['burden'], y = df_reg2['burden'], s = 8, label = \"True\")\n",
    "plt.plot([-2,8],[-2,8], color = \"r\")\n",
    "plt.legend(loc = 0)\n",
    "plt.title(\"Predicted Value vs True Value for Gradient Boost\")\n",
    "plt.xlabel(\"True Value\")\n",
    "plt.ylabel(\"Predicted Value\")"
   ]
  },
  {
   "cell_type": "markdown",
   "metadata": {},
   "source": [
    "### RMSE Summary"
   ]
  },
  {
   "cell_type": "code",
   "execution_count": null,
   "metadata": {},
   "outputs": [],
   "source": [
    "x = ['LinReg', 'RandomForest1', 'RandomForest2', 'GB1', 'GB2']\n",
    "y1 = [model11_train_rmse, model2_2_train_rmse, model22_2_train_rmse, model3_train_rmse, model33_train_rmse]\n",
    "y2 = [model11_cv_rmse, model2_2_cv_rmse, model22_2_cv_rmse, model3_cv_rmse, model33_cv_rmse]\n",
    "\n",
    "plt.plot(x, y2, label = \"10-CV RMSE\", c='r')\n",
    "plt.plot(x, y1, label = \"Train RMSE\", c='b')\n",
    "plt.legend()\n",
    "plt.grid()\n",
    "plt.show()"
   ]
  },
  {
   "cell_type": "markdown",
   "metadata": {},
   "source": [
    "## Score Summary"
   ]
  },
  {
   "cell_type": "code",
   "execution_count": null,
   "metadata": {},
   "outputs": [],
   "source": [
    "x = ['LinReg', 'RandomForest1', 'RandomForest2', 'GB1', 'GB2']\n",
    "y1 = [score11, score2_2, score22_2, score3, score33]\n",
    "\n",
    "plt.plot(x, y1, label = \"10-CV Score\", c='b')\n",
    "plt.legend()\n",
    "plt.grid()\n",
    "plt.show()"
   ]
  }
 ],
 "metadata": {
  "kernelspec": {
   "display_name": "Python 3.9.12 ('base')",
   "language": "python",
   "name": "python3"
  },
  "language_info": {
   "codemirror_mode": {
    "name": "ipython",
    "version": 3
   },
   "file_extension": ".py",
   "mimetype": "text/x-python",
   "name": "python",
   "nbconvert_exporter": "python",
   "pygments_lexer": "ipython3",
   "version": "3.9.12"
  },
  "orig_nbformat": 4,
  "vscode": {
   "interpreter": {
    "hash": "723860b9bcb0b1e72b55ae11883eb093fb3432a85486e4dad0490b6a92cc27fa"
   }
  }
 },
 "nbformat": 4,
 "nbformat_minor": 2
}
